{
  "nbformat": 4,
  "nbformat_minor": 0,
  "metadata": {
    "colab": {
      "name": "MSSP 608 Final Project.ipynb",
      "provenance": [],
      "collapsed_sections": [
        "X_ZTtjzoQnaO",
        "aOdgb2akQ8uU"
      ]
    },
    "kernelspec": {
      "name": "python3",
      "display_name": "Python 3"
    }
  },
  "cells": [
    {
      "cell_type": "markdown",
      "metadata": {
        "id": "X_ZTtjzoQnaO",
        "colab_type": "text"
      },
      "source": [
        "## Loading Packages/Data"
      ]
    },
    {
      "cell_type": "code",
      "metadata": {
        "id": "JfLv2LYxRGfp",
        "colab_type": "code",
        "colab": {
          "base_uri": "https://localhost:8080/",
          "height": 49
        },
        "outputId": "466b1675-e984-473c-f982-782e6edca94b"
      },
      "source": [
        "import pandas as pd\n",
        "import seaborn as sns\n",
        "import numpy as np\n",
        "import matplotlib.pyplot as plt\n",
        "\n",
        "from sklearn.tree import DecisionTreeClassifier\n",
        "from sklearn.ensemble import RandomForestClassifier\n",
        "from sklearn.model_selection import train_test_split, KFold, StratifiedKFold, GroupKFold, GridSearchCV, RandomizedSearchCV, cross_val_score\n",
        "from sklearn.metrics import accuracy_score, precision_score, recall_score, cohen_kappa_score, confusion_matrix, ConfusionMatrixDisplay, classification_report\n",
        "from sklearn import model_selection"
      ],
      "execution_count": null,
      "outputs": [
        {
          "output_type": "stream",
          "text": [
            "/usr/local/lib/python3.6/dist-packages/statsmodels/tools/_testing.py:19: FutureWarning: pandas.util.testing is deprecated. Use the functions in the public API at pandas.testing instead.\n",
            "  import pandas.util.testing as tm\n"
          ],
          "name": "stderr"
        }
      ]
    },
    {
      "cell_type": "code",
      "metadata": {
        "id": "8x2eJwlbMbDg",
        "colab_type": "code",
        "colab": {
          "base_uri": "https://localhost:8080/",
          "height": 858
        },
        "outputId": "f5eb3538-6657-414d-ede5-e0bd9522793e"
      },
      "source": [
        "!wget --no-check-certificate 'https://docs.google.com/uc?export=download&id=1HWjyghPfBJ_XbtKEaFFIyCTOLEEg__Ij' -O train.csv\n",
        "!wget --no-check-certificate 'https://docs.google.com/uc?export=download&id=1PKA6Qpm2rfZ7Z4ixA5hIrDUlaksvy7Pd' -O validation.csv\n",
        "!wget --no-check-certificate 'https://docs.google.com/uc?export=download&id=1XAsNEeqb8eXvVLNfxj1nlHGJuwu5Ea25' -O test.csv"
      ],
      "execution_count": null,
      "outputs": [
        {
          "output_type": "stream",
          "text": [
            "--2020-07-05 18:18:37--  https://docs.google.com/uc?export=download&id=1HWjyghPfBJ_XbtKEaFFIyCTOLEEg__Ij\n",
            "Resolving docs.google.com (docs.google.com)... 172.217.193.101, 172.217.193.100, 172.217.193.138, ...\n",
            "Connecting to docs.google.com (docs.google.com)|172.217.193.101|:443... connected.\n",
            "HTTP request sent, awaiting response... 302 Moved Temporarily\n",
            "Location: https://doc-0c-7s-docs.googleusercontent.com/docs/securesc/ha0ro937gcuc7l7deffksulhg5h7mbp1/8m0r09fg0p1lein3jbuvbgoc845ttod5/1593973050000/15910814371148022664/*/1HWjyghPfBJ_XbtKEaFFIyCTOLEEg__Ij?e=download [following]\n",
            "Warning: wildcards not supported in HTTP.\n",
            "--2020-07-05 18:18:38--  https://doc-0c-7s-docs.googleusercontent.com/docs/securesc/ha0ro937gcuc7l7deffksulhg5h7mbp1/8m0r09fg0p1lein3jbuvbgoc845ttod5/1593973050000/15910814371148022664/*/1HWjyghPfBJ_XbtKEaFFIyCTOLEEg__Ij?e=download\n",
            "Resolving doc-0c-7s-docs.googleusercontent.com (doc-0c-7s-docs.googleusercontent.com)... 74.125.31.132, 2607:f8b0:400c:c02::84\n",
            "Connecting to doc-0c-7s-docs.googleusercontent.com (doc-0c-7s-docs.googleusercontent.com)|74.125.31.132|:443... connected.\n",
            "HTTP request sent, awaiting response... 200 OK\n",
            "Length: unspecified [text/csv]\n",
            "Saving to: ‘train.csv’\n",
            "\n",
            "train.csv               [ <=>                ]   2.33M  --.-KB/s    in 0.02s   \n",
            "\n",
            "2020-07-05 18:18:38 (104 MB/s) - ‘train.csv’ saved [2445794]\n",
            "\n",
            "--2020-07-05 18:18:39--  https://docs.google.com/uc?export=download&id=1PKA6Qpm2rfZ7Z4ixA5hIrDUlaksvy7Pd\n",
            "Resolving docs.google.com (docs.google.com)... 172.217.193.139, 172.217.193.101, 172.217.193.138, ...\n",
            "Connecting to docs.google.com (docs.google.com)|172.217.193.139|:443... connected.\n",
            "HTTP request sent, awaiting response... 302 Moved Temporarily\n",
            "Location: https://doc-10-7s-docs.googleusercontent.com/docs/securesc/ha0ro937gcuc7l7deffksulhg5h7mbp1/ll74lsaaba2i0hog13rjjikqq9jbuboi/1593973050000/15910814371148022664/*/1PKA6Qpm2rfZ7Z4ixA5hIrDUlaksvy7Pd?e=download [following]\n",
            "Warning: wildcards not supported in HTTP.\n",
            "--2020-07-05 18:18:39--  https://doc-10-7s-docs.googleusercontent.com/docs/securesc/ha0ro937gcuc7l7deffksulhg5h7mbp1/ll74lsaaba2i0hog13rjjikqq9jbuboi/1593973050000/15910814371148022664/*/1PKA6Qpm2rfZ7Z4ixA5hIrDUlaksvy7Pd?e=download\n",
            "Resolving doc-10-7s-docs.googleusercontent.com (doc-10-7s-docs.googleusercontent.com)... 74.125.31.132, 2607:f8b0:400c:c02::84\n",
            "Connecting to doc-10-7s-docs.googleusercontent.com (doc-10-7s-docs.googleusercontent.com)|74.125.31.132|:443... connected.\n",
            "HTTP request sent, awaiting response... 200 OK\n",
            "Length: 306436 (299K) [text/csv]\n",
            "Saving to: ‘validation.csv’\n",
            "\n",
            "validation.csv      100%[===================>] 299.25K  --.-KB/s    in 0.002s  \n",
            "\n",
            "2020-07-05 18:18:40 (120 MB/s) - ‘validation.csv’ saved [306436/306436]\n",
            "\n",
            "--2020-07-05 18:18:40--  https://docs.google.com/uc?export=download&id=1XAsNEeqb8eXvVLNfxj1nlHGJuwu5Ea25\n",
            "Resolving docs.google.com (docs.google.com)... 172.217.193.138, 172.217.193.139, 172.217.193.113, ...\n",
            "Connecting to docs.google.com (docs.google.com)|172.217.193.138|:443... connected.\n",
            "HTTP request sent, awaiting response... 302 Moved Temporarily\n",
            "Location: https://doc-0g-7s-docs.googleusercontent.com/docs/securesc/ha0ro937gcuc7l7deffksulhg5h7mbp1/8lbpc7shr9vgamd9c16qghfgjr44tuv9/1593973050000/15910814371148022664/*/1XAsNEeqb8eXvVLNfxj1nlHGJuwu5Ea25?e=download [following]\n",
            "Warning: wildcards not supported in HTTP.\n",
            "--2020-07-05 18:18:41--  https://doc-0g-7s-docs.googleusercontent.com/docs/securesc/ha0ro937gcuc7l7deffksulhg5h7mbp1/8lbpc7shr9vgamd9c16qghfgjr44tuv9/1593973050000/15910814371148022664/*/1XAsNEeqb8eXvVLNfxj1nlHGJuwu5Ea25?e=download\n",
            "Resolving doc-0g-7s-docs.googleusercontent.com (doc-0g-7s-docs.googleusercontent.com)... 74.125.31.132, 2607:f8b0:400c:c02::84\n",
            "Connecting to doc-0g-7s-docs.googleusercontent.com (doc-0g-7s-docs.googleusercontent.com)|74.125.31.132|:443... connected.\n",
            "HTTP request sent, awaiting response... 200 OK\n",
            "Length: 305928 (299K) [text/csv]\n",
            "Saving to: ‘test.csv’\n",
            "\n",
            "test.csv            100%[===================>] 298.76K  --.-KB/s    in 0.003s  \n",
            "\n",
            "2020-07-05 18:18:41 (88.2 MB/s) - ‘test.csv’ saved [305928/305928]\n",
            "\n"
          ],
          "name": "stdout"
        }
      ]
    },
    {
      "cell_type": "code",
      "metadata": {
        "id": "gJ6Io-QjQYB5",
        "colab_type": "code",
        "colab": {}
      },
      "source": [
        "# Read datasets into colab\n",
        "train = pd.read_csv(\"train.csv\")\n",
        "validation = pd.read_csv(\"validation.csv\")\n",
        "test = pd.read_csv(\"test.csv\")"
      ],
      "execution_count": null,
      "outputs": []
    },
    {
      "cell_type": "code",
      "metadata": {
        "id": "eY5TLg2bM9w_",
        "colab_type": "code",
        "colab": {
          "base_uri": "https://localhost:8080/",
          "height": 33
        },
        "outputId": "93fe1e65-f883-40e8-aa74-3c3dce08c304"
      },
      "source": [
        "True in fakenews.title.isnull()"
      ],
      "execution_count": null,
      "outputs": [
        {
          "output_type": "execute_result",
          "data": {
            "text/plain": [
              "True"
            ]
          },
          "metadata": {
            "tags": []
          },
          "execution_count": 7
        }
      ]
    },
    {
      "cell_type": "code",
      "metadata": {
        "id": "Tjvb5rmsRPN2",
        "colab_type": "code",
        "colab": {
          "base_uri": "https://localhost:8080/",
          "height": 520
        },
        "outputId": "8f85bf66-f901-4fa7-d2b3-8e43e2bd10c7"
      },
      "source": [
        "# Concat all datasets to prepare one full dataset\n",
        "fakenews = pd.concat([train, validation, test])\n",
        "fakenews"
      ],
      "execution_count": null,
      "outputs": [
        {
          "output_type": "execute_result",
          "data": {
            "text/html": [
              "<div>\n",
              "<style scoped>\n",
              "    .dataframe tbody tr th:only-of-type {\n",
              "        vertical-align: middle;\n",
              "    }\n",
              "\n",
              "    .dataframe tbody tr th {\n",
              "        vertical-align: top;\n",
              "    }\n",
              "\n",
              "    .dataframe thead th {\n",
              "        text-align: right;\n",
              "    }\n",
              "</style>\n",
              "<table border=\"1\" class=\"dataframe\">\n",
              "  <thead>\n",
              "    <tr style=\"text-align: right;\">\n",
              "      <th></th>\n",
              "      <th>id</th>\n",
              "      <th>label</th>\n",
              "      <th>statement</th>\n",
              "      <th>subject</th>\n",
              "      <th>speaker</th>\n",
              "      <th>title</th>\n",
              "      <th>state</th>\n",
              "      <th>party</th>\n",
              "      <th>barely_true</th>\n",
              "      <th>not_true</th>\n",
              "      <th>half_true</th>\n",
              "      <th>mostly_true</th>\n",
              "      <th>lie</th>\n",
              "      <th>context</th>\n",
              "    </tr>\n",
              "  </thead>\n",
              "  <tbody>\n",
              "    <tr>\n",
              "      <th>0</th>\n",
              "      <td>2635.json</td>\n",
              "      <td>FALSE</td>\n",
              "      <td>Says the Annies List political group supports ...</td>\n",
              "      <td>abortion</td>\n",
              "      <td>dwayne-bohac</td>\n",
              "      <td>State representative</td>\n",
              "      <td>Texas</td>\n",
              "      <td>republican</td>\n",
              "      <td>0.0</td>\n",
              "      <td>1.0</td>\n",
              "      <td>0.0</td>\n",
              "      <td>0.0</td>\n",
              "      <td>0.0</td>\n",
              "      <td>a mailer</td>\n",
              "    </tr>\n",
              "    <tr>\n",
              "      <th>1</th>\n",
              "      <td>10540.json</td>\n",
              "      <td>half-true</td>\n",
              "      <td>When did the decline of coal start? It started...</td>\n",
              "      <td>energy,history,job-accomplishments</td>\n",
              "      <td>scott-surovell</td>\n",
              "      <td>State delegate</td>\n",
              "      <td>Virginia</td>\n",
              "      <td>democrat</td>\n",
              "      <td>0.0</td>\n",
              "      <td>0.0</td>\n",
              "      <td>1.0</td>\n",
              "      <td>1.0</td>\n",
              "      <td>0.0</td>\n",
              "      <td>a floor speech.</td>\n",
              "    </tr>\n",
              "    <tr>\n",
              "      <th>2</th>\n",
              "      <td>324.json</td>\n",
              "      <td>mostly-true</td>\n",
              "      <td>Hillary Clinton agrees with John McCain \"by vo...</td>\n",
              "      <td>foreign-policy</td>\n",
              "      <td>barack-obama</td>\n",
              "      <td>President</td>\n",
              "      <td>Illinois</td>\n",
              "      <td>democrat</td>\n",
              "      <td>70.0</td>\n",
              "      <td>71.0</td>\n",
              "      <td>160.0</td>\n",
              "      <td>163.0</td>\n",
              "      <td>9.0</td>\n",
              "      <td>Denver</td>\n",
              "    </tr>\n",
              "    <tr>\n",
              "      <th>3</th>\n",
              "      <td>1123.json</td>\n",
              "      <td>FALSE</td>\n",
              "      <td>Health care reform legislation is likely to ma...</td>\n",
              "      <td>health-care</td>\n",
              "      <td>blog-posting</td>\n",
              "      <td>NaN</td>\n",
              "      <td>NaN</td>\n",
              "      <td>none</td>\n",
              "      <td>7.0</td>\n",
              "      <td>19.0</td>\n",
              "      <td>3.0</td>\n",
              "      <td>5.0</td>\n",
              "      <td>44.0</td>\n",
              "      <td>a news release</td>\n",
              "    </tr>\n",
              "    <tr>\n",
              "      <th>4</th>\n",
              "      <td>9028.json</td>\n",
              "      <td>half-true</td>\n",
              "      <td>The economic turnaround started at the end of ...</td>\n",
              "      <td>economy,jobs</td>\n",
              "      <td>charlie-crist</td>\n",
              "      <td>NaN</td>\n",
              "      <td>Florida</td>\n",
              "      <td>democrat</td>\n",
              "      <td>15.0</td>\n",
              "      <td>9.0</td>\n",
              "      <td>20.0</td>\n",
              "      <td>19.0</td>\n",
              "      <td>2.0</td>\n",
              "      <td>an interview on CNN</td>\n",
              "    </tr>\n",
              "    <tr>\n",
              "      <th>...</th>\n",
              "      <td>...</td>\n",
              "      <td>...</td>\n",
              "      <td>...</td>\n",
              "      <td>...</td>\n",
              "      <td>...</td>\n",
              "      <td>...</td>\n",
              "      <td>...</td>\n",
              "      <td>...</td>\n",
              "      <td>...</td>\n",
              "      <td>...</td>\n",
              "      <td>...</td>\n",
              "      <td>...</td>\n",
              "      <td>...</td>\n",
              "      <td>...</td>\n",
              "    </tr>\n",
              "    <tr>\n",
              "      <th>1262</th>\n",
              "      <td>7334.json</td>\n",
              "      <td>half-true</td>\n",
              "      <td>Says his budget provides the highest state fun...</td>\n",
              "      <td>education</td>\n",
              "      <td>rick-scott</td>\n",
              "      <td>Governor</td>\n",
              "      <td>Florida</td>\n",
              "      <td>republican</td>\n",
              "      <td>28.0</td>\n",
              "      <td>23.0</td>\n",
              "      <td>38.0</td>\n",
              "      <td>34.0</td>\n",
              "      <td>7.0</td>\n",
              "      <td>a news conference</td>\n",
              "    </tr>\n",
              "    <tr>\n",
              "      <th>1263</th>\n",
              "      <td>9788.json</td>\n",
              "      <td>barely-true</td>\n",
              "      <td>Ive been here almost every day.</td>\n",
              "      <td>civil-rights,crime,criminal-justice</td>\n",
              "      <td>jay-nixon</td>\n",
              "      <td>Governor</td>\n",
              "      <td>Missouri</td>\n",
              "      <td>democrat</td>\n",
              "      <td>2.0</td>\n",
              "      <td>0.0</td>\n",
              "      <td>0.0</td>\n",
              "      <td>1.0</td>\n",
              "      <td>0.0</td>\n",
              "      <td>on ABC's \"This Week\"</td>\n",
              "    </tr>\n",
              "    <tr>\n",
              "      <th>1264</th>\n",
              "      <td>10710.json</td>\n",
              "      <td>barely-true</td>\n",
              "      <td>In the early 1980s, Sen. Edward Kennedy secret...</td>\n",
              "      <td>bipartisanship,congress,foreign-policy,history</td>\n",
              "      <td>mackubin-thomas-owens</td>\n",
              "      <td>senior fellow, Foreign Policy Research Institute</td>\n",
              "      <td>Rhode Island</td>\n",
              "      <td>columnist</td>\n",
              "      <td>1.0</td>\n",
              "      <td>0.0</td>\n",
              "      <td>0.0</td>\n",
              "      <td>0.0</td>\n",
              "      <td>0.0</td>\n",
              "      <td>a commentary in The Providence Journal</td>\n",
              "    </tr>\n",
              "    <tr>\n",
              "      <th>1265</th>\n",
              "      <td>3186.json</td>\n",
              "      <td>barely-true</td>\n",
              "      <td>Says an EPA permit languished under Strickland...</td>\n",
              "      <td>environment,government-efficiency</td>\n",
              "      <td>john-kasich</td>\n",
              "      <td>Governor of Ohio as of Jan. 10, 2011</td>\n",
              "      <td>Ohio</td>\n",
              "      <td>republican</td>\n",
              "      <td>9.0</td>\n",
              "      <td>8.0</td>\n",
              "      <td>10.0</td>\n",
              "      <td>18.0</td>\n",
              "      <td>3.0</td>\n",
              "      <td>a news conference</td>\n",
              "    </tr>\n",
              "    <tr>\n",
              "      <th>1266</th>\n",
              "      <td>6743.json</td>\n",
              "      <td>FALSE</td>\n",
              "      <td>Says the governor is going around the state ta...</td>\n",
              "      <td>state-budget,state-finances,taxes</td>\n",
              "      <td>john-burzichelli</td>\n",
              "      <td>NaN</td>\n",
              "      <td>NaN</td>\n",
              "      <td>democrat</td>\n",
              "      <td>1.0</td>\n",
              "      <td>1.0</td>\n",
              "      <td>0.0</td>\n",
              "      <td>0.0</td>\n",
              "      <td>0.0</td>\n",
              "      <td>an interview with NJToday</td>\n",
              "    </tr>\n",
              "  </tbody>\n",
              "</table>\n",
              "<p>12791 rows × 14 columns</p>\n",
              "</div>"
            ],
            "text/plain": [
              "              id        label  ...   lie                                 context\n",
              "0      2635.json        FALSE  ...   0.0                                a mailer\n",
              "1     10540.json    half-true  ...   0.0                         a floor speech.\n",
              "2       324.json  mostly-true  ...   9.0                                  Denver\n",
              "3      1123.json        FALSE  ...  44.0                          a news release\n",
              "4      9028.json    half-true  ...   2.0                     an interview on CNN\n",
              "...          ...          ...  ...   ...                                     ...\n",
              "1262   7334.json    half-true  ...   7.0                       a news conference\n",
              "1263   9788.json  barely-true  ...   0.0                    on ABC's \"This Week\"\n",
              "1264  10710.json  barely-true  ...   0.0  a commentary in The Providence Journal\n",
              "1265   3186.json  barely-true  ...   3.0                       a news conference\n",
              "1266   6743.json        FALSE  ...   0.0               an interview with NJToday\n",
              "\n",
              "[12791 rows x 14 columns]"
            ]
          },
          "metadata": {
            "tags": []
          },
          "execution_count": 4
        }
      ]
    },
    {
      "cell_type": "markdown",
      "metadata": {
        "id": "aOdgb2akQ8uU",
        "colab_type": "text"
      },
      "source": [
        "## Data Exploration and Preparation"
      ]
    },
    {
      "cell_type": "markdown",
      "metadata": {
        "id": "rxQ2tPyMcPt1",
        "colab_type": "text"
      },
      "source": [
        "This part explores the distributions of important variables and prepares features and labels for machine learning modeling. "
      ]
    },
    {
      "cell_type": "markdown",
      "metadata": {
        "id": "GI8oBEB2kneG",
        "colab_type": "text"
      },
      "source": [
        "### Missing Data"
      ]
    },
    {
      "cell_type": "markdown",
      "metadata": {
        "id": "baDA_pYLdfSX",
        "colab_type": "text"
      },
      "source": [
        "First, I examined the missing values in the dataset and found that two statements don't have values for all variables, so I dropped those two data entries. I also found that there are some missing values for context (131) and many missing values for title and state (3567 and 2749). Since removing the missing values will greatly reduce the size of training data, I decided to not drop them and fill them with \"missing\"."
      ]
    },
    {
      "cell_type": "code",
      "metadata": {
        "id": "SQNnnC0rRoMs",
        "colab_type": "code",
        "colab": {
          "base_uri": "https://localhost:8080/",
          "height": 277
        },
        "outputId": "7b450001-f141-46dc-abe8-f0085cdafdf2"
      },
      "source": [
        "# Summarize missing values in the dataset\n",
        "fakenews.isna().sum()"
      ],
      "execution_count": null,
      "outputs": [
        {
          "output_type": "execute_result",
          "data": {
            "text/plain": [
              "id                0\n",
              "label             0\n",
              "statement         0\n",
              "subject           2\n",
              "speaker           2\n",
              "title          3567\n",
              "state          2749\n",
              "party             2\n",
              "barely_true       2\n",
              "not_true          2\n",
              "half_true         2\n",
              "mostly_true       2\n",
              "lie               2\n",
              "context         131\n",
              "dtype: int64"
            ]
          },
          "metadata": {
            "tags": []
          },
          "execution_count": 171
        }
      ]
    },
    {
      "cell_type": "code",
      "metadata": {
        "id": "S2hwcs4jefo7",
        "colab_type": "code",
        "colab": {}
      },
      "source": [
        "# Remove two data entries without any values for variables\n",
        "fakenews = fakenews.dropna(subset=['subject'])\n",
        "\n",
        "# Fill the rest of the missing values with \"missing\"\n",
        "fakenews = fakenews.fillna(\"missing\") "
      ],
      "execution_count": null,
      "outputs": []
    },
    {
      "cell_type": "markdown",
      "metadata": {
        "id": "n9DgcLX-A1W8",
        "colab_type": "text"
      },
      "source": [
        "### Features"
      ]
    },
    {
      "cell_type": "markdown",
      "metadata": {
        "id": "RoqgpNLBgoMR",
        "colab_type": "text"
      },
      "source": [
        "This part explores the variables in the dataset and examines which of these variables could be use as features. I also conducted feature engineering for certain variables to convert them into features and to prepare them for use in the modeling. "
      ]
    },
    {
      "cell_type": "markdown",
      "metadata": {
        "id": "1zx8ZslYBFKW",
        "colab_type": "text"
      },
      "source": [
        "#### Statement Text"
      ]
    },
    {
      "cell_type": "markdown",
      "metadata": {
        "id": "hWz35xjOjbzT",
        "colab_type": "text"
      },
      "source": [
        "This part examines the \"statement\" variable in the dataset, which has the texts of statements. To transform this variable into a usable feature, I created a new variable \"statement_length\" for the lengths of statements. The distribution of \"statement_length\" shows that while its distribution closely resembles a normal distribution under 500, it has a very high range of distribution that extends to more than 3000. To avoid numerical instability issues, I rescaled \"statement_length\" to log scale (base e) and its distribution became more like normal distribution curve. "
      ]
    },
    {
      "cell_type": "code",
      "metadata": {
        "id": "7GPWNyJ7BMSg",
        "colab_type": "code",
        "colab": {}
      },
      "source": [
        "# Create new variable 'statement_length'\n",
        "fakenews['statement_length'] = fakenews['statement'].map(lambda x: len(x))"
      ],
      "execution_count": null,
      "outputs": []
    },
    {
      "cell_type": "code",
      "metadata": {
        "id": "5I4yG1hxBZIV",
        "colab_type": "code",
        "colab": {
          "base_uri": "https://localhost:8080/",
          "height": 441
        },
        "outputId": "4f1c2df2-89bd-46bd-e050-2b56712c5bd0"
      },
      "source": [
        "# Visualize the distribution of 'statement_length' with seaborn\n",
        "statement_length = fakenews['statement_length'].value_counts().rename_axis('statement_length').reset_index(name = 'counts').sort_values(by='counts', ascending = False)\n",
        "k = sns.relplot(x = 'statement_length', y = 'counts', kind=\"scatter\", data = statement_length, height=6, aspect=4)"
      ],
      "execution_count": null,
      "outputs": [
        {
          "output_type": "display_data",
          "data": {
            "image/png": "[encoded data removed]",
            "text/plain": [
              "<Figure size 1728x432 with 1 Axes>"
            ]
          },
          "metadata": {
            "tags": [],
            "needs_background": "light"
          }
        }
      ]
    },
    {
      "cell_type": "code",
      "metadata": {
        "id": "82hVX90bwNUV",
        "colab_type": "code",
        "colab": {}
      },
      "source": [
        "# Rescale 'statement_length' to log scale (base e) 'statement_length_log'\n",
        "fakenews['statement_length_log'] = np.log(fakenews[\"statement_length\"])"
      ],
      "execution_count": null,
      "outputs": []
    },
    {
      "cell_type": "code",
      "metadata": {
        "id": "JQuzu383wgZv",
        "colab_type": "code",
        "colab": {
          "base_uri": "https://localhost:8080/",
          "height": 441
        },
        "outputId": "27b6e59b-3253-485c-a0b2-afe0f744172e"
      },
      "source": [
        "# Visualize the distribution of 'statement_length_log' with seaborn\n",
        "statement_length_log = fakenews['statement_length_log'].value_counts().rename_axis('statement_length_log').reset_index(name = 'counts').sort_values(by='counts', ascending = False)\n",
        "k = sns.relplot(x = 'statement_length_log', y = 'counts', kind=\"scatter\", data = statement_length_log, height=6, aspect=2)"
      ],
      "execution_count": null,
      "outputs": [
        {
          "output_type": "display_data",
          "data": {
            "image/png": "[encoded data removed]",
            "text/plain": [
              "<Figure size 864x432 with 1 Axes>"
            ]
          },
          "metadata": {
            "tags": [],
            "needs_background": "light"
          }
        }
      ]
    },
    {
      "cell_type": "markdown",
      "metadata": {
        "id": "Eq0bxYe6ltZb",
        "colab_type": "text"
      },
      "source": [
        "#### Statement Subject"
      ]
    },
    {
      "cell_type": "markdown",
      "metadata": {
        "id": "uHUM6sFqq8vB",
        "colab_type": "text"
      },
      "source": [
        "This part examines the \"subject\" variable in the dataset, which has the subjects of statements. There are 4534 different subjects and the top five most mentioned ones are health care, taxes, education, elections, and immigration. However, a lot of statements included more than one subject. To take this factor into account, I created a new variable \"subject_count\" for the number of subjects. The distribution of \"subject_count\" shows that while the great majority of the politicians referred to only 1-3 subjects in their statements, some of them referred to as many as 20 subjects. Both “subject” and “subject_count” variables will be used as features."
      ]
    },
    {
      "cell_type": "code",
      "metadata": {
        "id": "vvR4YlwGp3oF",
        "colab_type": "code",
        "colab": {
          "base_uri": "https://localhost:8080/",
          "height": 416
        },
        "outputId": "a7f99e84-5a59-43a8-f44b-e9f5ddb7d60a"
      },
      "source": [
        "# Distribution of subjects\n",
        "subject = fakenews['subject'].value_counts().rename_axis('subject').reset_index(name = 'counts').sort_values(by='counts', ascending = False)\n",
        "subject"
      ],
      "execution_count": null,
      "outputs": [
        {
          "output_type": "execute_result",
          "data": {
            "text/html": [
              "<div>\n",
              "<style scoped>\n",
              "    .dataframe tbody tr th:only-of-type {\n",
              "        vertical-align: middle;\n",
              "    }\n",
              "\n",
              "    .dataframe tbody tr th {\n",
              "        vertical-align: top;\n",
              "    }\n",
              "\n",
              "    .dataframe thead th {\n",
              "        text-align: right;\n",
              "    }\n",
              "</style>\n",
              "<table border=\"1\" class=\"dataframe\">\n",
              "  <thead>\n",
              "    <tr style=\"text-align: right;\">\n",
              "      <th></th>\n",
              "      <th>subject</th>\n",
              "      <th>counts</th>\n",
              "    </tr>\n",
              "  </thead>\n",
              "  <tbody>\n",
              "    <tr>\n",
              "      <th>0</th>\n",
              "      <td>health-care</td>\n",
              "      <td>474</td>\n",
              "    </tr>\n",
              "    <tr>\n",
              "      <th>1</th>\n",
              "      <td>taxes</td>\n",
              "      <td>356</td>\n",
              "    </tr>\n",
              "    <tr>\n",
              "      <th>2</th>\n",
              "      <td>education</td>\n",
              "      <td>309</td>\n",
              "    </tr>\n",
              "    <tr>\n",
              "      <th>3</th>\n",
              "      <td>elections</td>\n",
              "      <td>304</td>\n",
              "    </tr>\n",
              "    <tr>\n",
              "      <th>4</th>\n",
              "      <td>immigration</td>\n",
              "      <td>303</td>\n",
              "    </tr>\n",
              "    <tr>\n",
              "      <th>...</th>\n",
              "      <td>...</td>\n",
              "      <td>...</td>\n",
              "    </tr>\n",
              "    <tr>\n",
              "      <th>2243</th>\n",
              "      <td>congress,diversity,history,population,women</td>\n",
              "      <td>1</td>\n",
              "    </tr>\n",
              "    <tr>\n",
              "      <th>2244</th>\n",
              "      <td>state-budget,state-finances,workers</td>\n",
              "      <td>1</td>\n",
              "    </tr>\n",
              "    <tr>\n",
              "      <th>2245</th>\n",
              "      <td>debt,economy,federal-budget,message-machine-2012</td>\n",
              "      <td>1</td>\n",
              "    </tr>\n",
              "    <tr>\n",
              "      <th>2246</th>\n",
              "      <td>climate-change,education,energy,environment,he...</td>\n",
              "      <td>1</td>\n",
              "    </tr>\n",
              "    <tr>\n",
              "      <th>4533</th>\n",
              "      <td>afghanistan,economy,iraq,jobs,message-machine-...</td>\n",
              "      <td>1</td>\n",
              "    </tr>\n",
              "  </tbody>\n",
              "</table>\n",
              "<p>4534 rows × 2 columns</p>\n",
              "</div>"
            ],
            "text/plain": [
              "                                                subject  counts\n",
              "0                                           health-care     474\n",
              "1                                                 taxes     356\n",
              "2                                             education     309\n",
              "3                                             elections     304\n",
              "4                                           immigration     303\n",
              "...                                                 ...     ...\n",
              "2243        congress,diversity,history,population,women       1\n",
              "2244                state-budget,state-finances,workers       1\n",
              "2245   debt,economy,federal-budget,message-machine-2012       1\n",
              "2246  climate-change,education,energy,environment,he...       1\n",
              "4533  afghanistan,economy,iraq,jobs,message-machine-...       1\n",
              "\n",
              "[4534 rows x 2 columns]"
            ]
          },
          "metadata": {
            "tags": []
          },
          "execution_count": 177
        }
      ]
    },
    {
      "cell_type": "code",
      "metadata": {
        "id": "sJclGyMitRMj",
        "colab_type": "code",
        "colab": {
          "base_uri": "https://localhost:8080/",
          "height": 329
        },
        "outputId": "c44c092f-aa05-4456-94d1-0005849c900a"
      },
      "source": [
        "# Distribution of subject counts\n",
        "fakenews['subject_count'] = fakenews['subject'].map(lambda x: x.count(\",\")+1)\n",
        "fakenews['subject_count'].value_counts()"
      ],
      "execution_count": null,
      "outputs": [
        {
          "output_type": "execute_result",
          "data": {
            "text/plain": [
              "1     4857\n",
              "2     3956\n",
              "3     2325\n",
              "4      995\n",
              "5      365\n",
              "6      145\n",
              "7       56\n",
              "8       35\n",
              "9       22\n",
              "10      15\n",
              "11       5\n",
              "13       3\n",
              "14       3\n",
              "12       2\n",
              "16       2\n",
              "15       2\n",
              "20       1\n",
              "Name: subject_count, dtype: int64"
            ]
          },
          "metadata": {
            "tags": []
          },
          "execution_count": 178
        }
      ]
    },
    {
      "cell_type": "code",
      "metadata": {
        "id": "Kd2S4sivivLC",
        "colab_type": "code",
        "colab": {
          "base_uri": "https://localhost:8080/",
          "height": 297
        },
        "outputId": "eaf2cb85-6c24-40c1-de33-2ab538c4aabe"
      },
      "source": [
        "# Distribution of the counts of subject\n",
        "fakenews['subject_count'] = fakenews['subject'].map(lambda x: x.count(\",\")+1)\n",
        "subject_count = fakenews['subject_count'].value_counts().rename_axis('Number of Subjects').reset_index(name = 'Number of Appearances').sort_values(by='Number of Appearances', ascending = False)\n",
        "m = sns.relplot(x = 'Number of Subjects', y = 'Number of Appearances', kind=\"scatter\", data = subject_count, height=4, aspect=2)"
      ],
      "execution_count": null,
      "outputs": [
        {
          "output_type": "display_data",
          "data": {
            "image/png": "[encoded data removed]",
            "text/plain": [
              "<Figure size 576x288 with 1 Axes>"
            ]
          },
          "metadata": {
            "tags": [],
            "needs_background": "light"
          }
        }
      ]
    },
    {
      "cell_type": "markdown",
      "metadata": {
        "id": "iqtw2zsZqADH",
        "colab_type": "text"
      },
      "source": [
        "#### Speaker name"
      ]
    },
    {
      "cell_type": "markdown",
      "metadata": {
        "id": "3JgoZtRFsptY",
        "colab_type": "text"
      },
      "source": [
        "This part examines the \"speaker\" variable in the dataset, which has the names of speakers. There are in total 1355 speakers in the dataset and the top five speakers are Barack Obama, Donald Trump, Hillary Clinton, Mitt Romney, and John McCain. However, while certain speakers appear many times, the majority of speakers only appear one to two times. Therefore, I decided to not use speaker names as a feature. Moreover, the names of the existing speakers won't have much predictive power for the new speakers which will be added into the future dataset."
      ]
    },
    {
      "cell_type": "code",
      "metadata": {
        "id": "i11M73LLqs7N",
        "colab_type": "code",
        "colab": {
          "base_uri": "https://localhost:8080/",
          "height": 416
        },
        "outputId": "597edeee-25f1-4cc9-ae29-c664b5130497"
      },
      "source": [
        "# Speaker names\n",
        "name = fakenews['speaker'].value_counts().rename_axis('speaker').reset_index(name = 'counts').sort_values(by='counts', ascending = False)\n",
        "name"
      ],
      "execution_count": null,
      "outputs": [
        {
          "output_type": "execute_result",
          "data": {
            "text/html": [
              "<div>\n",
              "<style scoped>\n",
              "    .dataframe tbody tr th:only-of-type {\n",
              "        vertical-align: middle;\n",
              "    }\n",
              "\n",
              "    .dataframe tbody tr th {\n",
              "        vertical-align: top;\n",
              "    }\n",
              "\n",
              "    .dataframe thead th {\n",
              "        text-align: right;\n",
              "    }\n",
              "</style>\n",
              "<table border=\"1\" class=\"dataframe\">\n",
              "  <thead>\n",
              "    <tr style=\"text-align: right;\">\n",
              "      <th></th>\n",
              "      <th>speaker</th>\n",
              "      <th>counts</th>\n",
              "    </tr>\n",
              "  </thead>\n",
              "  <tbody>\n",
              "    <tr>\n",
              "      <th>0</th>\n",
              "      <td>barack-obama</td>\n",
              "      <td>611</td>\n",
              "    </tr>\n",
              "    <tr>\n",
              "      <th>1</th>\n",
              "      <td>donald-trump</td>\n",
              "      <td>343</td>\n",
              "    </tr>\n",
              "    <tr>\n",
              "      <th>2</th>\n",
              "      <td>hillary-clinton</td>\n",
              "      <td>297</td>\n",
              "    </tr>\n",
              "    <tr>\n",
              "      <th>3</th>\n",
              "      <td>mitt-romney</td>\n",
              "      <td>212</td>\n",
              "    </tr>\n",
              "    <tr>\n",
              "      <th>4</th>\n",
              "      <td>john-mccain</td>\n",
              "      <td>189</td>\n",
              "    </tr>\n",
              "    <tr>\n",
              "      <th>...</th>\n",
              "      <td>...</td>\n",
              "      <td>...</td>\n",
              "    </tr>\n",
              "    <tr>\n",
              "      <th>1934</th>\n",
              "      <td>stephen-fincher</td>\n",
              "      <td>1</td>\n",
              "    </tr>\n",
              "    <tr>\n",
              "      <th>1933</th>\n",
              "      <td>steven-goldstein</td>\n",
              "      <td>1</td>\n",
              "    </tr>\n",
              "    <tr>\n",
              "      <th>1932</th>\n",
              "      <td>james-bell</td>\n",
              "      <td>1</td>\n",
              "    </tr>\n",
              "    <tr>\n",
              "      <th>1931</th>\n",
              "      <td>texas-department-transportation</td>\n",
              "      <td>1</td>\n",
              "    </tr>\n",
              "    <tr>\n",
              "      <th>3308</th>\n",
              "      <td>will-wynn</td>\n",
              "      <td>1</td>\n",
              "    </tr>\n",
              "  </tbody>\n",
              "</table>\n",
              "<p>3309 rows × 2 columns</p>\n",
              "</div>"
            ],
            "text/plain": [
              "                              speaker  counts\n",
              "0                        barack-obama     611\n",
              "1                        donald-trump     343\n",
              "2                     hillary-clinton     297\n",
              "3                         mitt-romney     212\n",
              "4                         john-mccain     189\n",
              "...                               ...     ...\n",
              "1934                  stephen-fincher       1\n",
              "1933                 steven-goldstein       1\n",
              "1932                       james-bell       1\n",
              "1931  texas-department-transportation       1\n",
              "3308                        will-wynn       1\n",
              "\n",
              "[3309 rows x 2 columns]"
            ]
          },
          "metadata": {
            "tags": []
          },
          "execution_count": 179
        }
      ]
    },
    {
      "cell_type": "code",
      "metadata": {
        "id": "7-8l5S6v-phz",
        "colab_type": "code",
        "colab": {
          "base_uri": "https://localhost:8080/",
          "height": 369
        },
        "outputId": "9746aacb-1f0e-4e8a-c6f1-922777095294"
      },
      "source": [
        "# Distribution of the counts of speaker names\n",
        "name_counts = name.groupby('counts', as_index = False).count()\n",
        "name_counts.columns = ['Number of Appearances', 'Number of Speakers']\n",
        "m = sns.relplot(x = 'Number of Appearances', y = 'Number of Speakers', kind=\"scatter\", data = name_counts, height=5, aspect=2)"
      ],
      "execution_count": null,
      "outputs": [
        {
          "output_type": "display_data",
          "data": {
            "image/png": "[encoded data removed]",
            "text/plain": [
              "<Figure size 720x360 with 1 Axes>"
            ]
          },
          "metadata": {
            "tags": [],
            "needs_background": "light"
          }
        }
      ]
    },
    {
      "cell_type": "markdown",
      "metadata": {
        "id": "2zJSq6SGqDcu",
        "colab_type": "text"
      },
      "source": [
        "#### Speaker Title"
      ]
    },
    {
      "cell_type": "markdown",
      "metadata": {
        "id": "80Lk92jO0a3Y",
        "colab_type": "text"
      },
      "source": [
        "This part examines the \"title\" variable in the dataset, which has the titles of speakers. The top 20 most frequent titles show that certain titles are classified as different titles just because of uppercase and lowercase, such as \"U.S. Senator\" and \"U.S. senator\". After I changed all titles to lower case, the number of unique titles went down from 1356 to 1279. The plot of the distribution of titles shows that the majority of speakers are U.S. Senator, President, and Governor. I will use \"title\" as a feature because a politician's title might be related to his/her tendency to lie. \n"
      ]
    },
    {
      "cell_type": "code",
      "metadata": {
        "id": "J72Nk9JWrXDE",
        "colab_type": "code",
        "colab": {
          "base_uri": "https://localhost:8080/",
          "height": 662
        },
        "outputId": "c7384fc8-4b8b-4822-d625-ab3f0549683c"
      },
      "source": [
        "# Top 20 most frequent speaker titles\n",
        "title = fakenews['title'].value_counts().rename_axis('title').reset_index(name = 'counts').sort_values(by='counts', ascending = False)\n",
        "title[0:20]"
      ],
      "execution_count": null,
      "outputs": [
        {
          "output_type": "execute_result",
          "data": {
            "text/html": [
              "<div>\n",
              "<style scoped>\n",
              "    .dataframe tbody tr th:only-of-type {\n",
              "        vertical-align: middle;\n",
              "    }\n",
              "\n",
              "    .dataframe tbody tr th {\n",
              "        vertical-align: top;\n",
              "    }\n",
              "\n",
              "    .dataframe thead th {\n",
              "        text-align: right;\n",
              "    }\n",
              "</style>\n",
              "<table border=\"1\" class=\"dataframe\">\n",
              "  <thead>\n",
              "    <tr style=\"text-align: right;\">\n",
              "      <th></th>\n",
              "      <th>title</th>\n",
              "      <th>counts</th>\n",
              "    </tr>\n",
              "  </thead>\n",
              "  <tbody>\n",
              "    <tr>\n",
              "      <th>0</th>\n",
              "      <td>missing</td>\n",
              "      <td>3565</td>\n",
              "    </tr>\n",
              "    <tr>\n",
              "      <th>1</th>\n",
              "      <td>President</td>\n",
              "      <td>615</td>\n",
              "    </tr>\n",
              "    <tr>\n",
              "      <th>2</th>\n",
              "      <td>U.S. Senator</td>\n",
              "      <td>595</td>\n",
              "    </tr>\n",
              "    <tr>\n",
              "      <th>3</th>\n",
              "      <td>Governor</td>\n",
              "      <td>487</td>\n",
              "    </tr>\n",
              "    <tr>\n",
              "      <th>4</th>\n",
              "      <td>President-Elect</td>\n",
              "      <td>343</td>\n",
              "    </tr>\n",
              "    <tr>\n",
              "      <th>5</th>\n",
              "      <td>U.S. senator</td>\n",
              "      <td>328</td>\n",
              "    </tr>\n",
              "    <tr>\n",
              "      <th>6</th>\n",
              "      <td>Presidential candidate</td>\n",
              "      <td>314</td>\n",
              "    </tr>\n",
              "    <tr>\n",
              "      <th>7</th>\n",
              "      <td>Former governor</td>\n",
              "      <td>212</td>\n",
              "    </tr>\n",
              "    <tr>\n",
              "      <th>8</th>\n",
              "      <td>U.S. Representative</td>\n",
              "      <td>210</td>\n",
              "    </tr>\n",
              "    <tr>\n",
              "      <th>9</th>\n",
              "      <td>Senator</td>\n",
              "      <td>193</td>\n",
              "    </tr>\n",
              "    <tr>\n",
              "      <th>10</th>\n",
              "      <td>Milwaukee County Executive</td>\n",
              "      <td>183</td>\n",
              "    </tr>\n",
              "    <tr>\n",
              "      <th>11</th>\n",
              "      <td>State Senator</td>\n",
              "      <td>140</td>\n",
              "    </tr>\n",
              "    <tr>\n",
              "      <th>12</th>\n",
              "      <td>U.S. representative</td>\n",
              "      <td>130</td>\n",
              "    </tr>\n",
              "    <tr>\n",
              "      <th>13</th>\n",
              "      <td>U.S. House of Representatives</td>\n",
              "      <td>118</td>\n",
              "    </tr>\n",
              "    <tr>\n",
              "      <th>14</th>\n",
              "      <td>Attorney</td>\n",
              "      <td>110</td>\n",
              "    </tr>\n",
              "    <tr>\n",
              "      <th>15</th>\n",
              "      <td>Governor of New Jersey</td>\n",
              "      <td>104</td>\n",
              "    </tr>\n",
              "    <tr>\n",
              "      <th>16</th>\n",
              "      <td>Social media posting</td>\n",
              "      <td>100</td>\n",
              "    </tr>\n",
              "    <tr>\n",
              "      <th>17</th>\n",
              "      <td>Congressman</td>\n",
              "      <td>99</td>\n",
              "    </tr>\n",
              "    <tr>\n",
              "      <th>18</th>\n",
              "      <td>State representative</td>\n",
              "      <td>89</td>\n",
              "    </tr>\n",
              "    <tr>\n",
              "      <th>19</th>\n",
              "      <td>Co-host on CNN's \"Crossfire\"</td>\n",
              "      <td>88</td>\n",
              "    </tr>\n",
              "  </tbody>\n",
              "</table>\n",
              "</div>"
            ],
            "text/plain": [
              "                            title  counts\n",
              "0                         missing    3565\n",
              "1                       President     615\n",
              "2                    U.S. Senator     595\n",
              "3                        Governor     487\n",
              "4                 President-Elect     343\n",
              "5                    U.S. senator     328\n",
              "6          Presidential candidate     314\n",
              "7                 Former governor     212\n",
              "8             U.S. Representative     210\n",
              "9                         Senator     193\n",
              "10     Milwaukee County Executive     183\n",
              "11                  State Senator     140\n",
              "12            U.S. representative     130\n",
              "13  U.S. House of Representatives     118\n",
              "14                       Attorney     110\n",
              "15         Governor of New Jersey     104\n",
              "16           Social media posting     100\n",
              "17                    Congressman      99\n",
              "18           State representative      89\n",
              "19   Co-host on CNN's \"Crossfire\"      88"
            ]
          },
          "metadata": {
            "tags": []
          },
          "execution_count": 181
        }
      ]
    },
    {
      "cell_type": "code",
      "metadata": {
        "id": "jmI6O8uRsM-E",
        "colab_type": "code",
        "colab": {
          "base_uri": "https://localhost:8080/",
          "height": 34
        },
        "outputId": "c8704a21-38d2-4aa1-ac76-56dafde72a56"
      },
      "source": [
        "print(f\"Originally, there are {len(title)} titles\")"
      ],
      "execution_count": null,
      "outputs": [
        {
          "output_type": "stream",
          "text": [
            "Originally, there are 1356 titles\n"
          ],
          "name": "stdout"
        }
      ]
    },
    {
      "cell_type": "code",
      "metadata": {
        "id": "cZ3xAfbh-Khr",
        "colab_type": "code",
        "colab": {}
      },
      "source": [
        "# Change titles to lowercase\n",
        "fakenews['title'] = fakenews['title'].apply(lambda x: x.lower())"
      ],
      "execution_count": null,
      "outputs": []
    },
    {
      "cell_type": "code",
      "metadata": {
        "id": "UPQAf8qtSKkM",
        "colab_type": "code",
        "colab": {
          "base_uri": "https://localhost:8080/",
          "height": 662
        },
        "outputId": "d882de95-e560-47d8-80ef-de66351d6f72"
      },
      "source": [
        "# Top 20 most frequent cleaned lowercase titles, in contrast to the top 20 uncleaned titles\n",
        "clean_title = fakenews['title'].value_counts().rename_axis('title').reset_index(name = 'counts').sort_values(by='counts', ascending = False)\n",
        "clean_title[0:20]"
      ],
      "execution_count": null,
      "outputs": [
        {
          "output_type": "execute_result",
          "data": {
            "text/html": [
              "<div>\n",
              "<style scoped>\n",
              "    .dataframe tbody tr th:only-of-type {\n",
              "        vertical-align: middle;\n",
              "    }\n",
              "\n",
              "    .dataframe tbody tr th {\n",
              "        vertical-align: top;\n",
              "    }\n",
              "\n",
              "    .dataframe thead th {\n",
              "        text-align: right;\n",
              "    }\n",
              "</style>\n",
              "<table border=\"1\" class=\"dataframe\">\n",
              "  <thead>\n",
              "    <tr style=\"text-align: right;\">\n",
              "      <th></th>\n",
              "      <th>title</th>\n",
              "      <th>counts</th>\n",
              "    </tr>\n",
              "  </thead>\n",
              "  <tbody>\n",
              "    <tr>\n",
              "      <th>0</th>\n",
              "      <td>missing</td>\n",
              "      <td>3565</td>\n",
              "    </tr>\n",
              "    <tr>\n",
              "      <th>1</th>\n",
              "      <td>u.s. senator</td>\n",
              "      <td>923</td>\n",
              "    </tr>\n",
              "    <tr>\n",
              "      <th>2</th>\n",
              "      <td>president</td>\n",
              "      <td>615</td>\n",
              "    </tr>\n",
              "    <tr>\n",
              "      <th>3</th>\n",
              "      <td>governor</td>\n",
              "      <td>537</td>\n",
              "    </tr>\n",
              "    <tr>\n",
              "      <th>4</th>\n",
              "      <td>president-elect</td>\n",
              "      <td>343</td>\n",
              "    </tr>\n",
              "    <tr>\n",
              "      <th>5</th>\n",
              "      <td>u.s. representative</td>\n",
              "      <td>340</td>\n",
              "    </tr>\n",
              "    <tr>\n",
              "      <th>6</th>\n",
              "      <td>presidential candidate</td>\n",
              "      <td>315</td>\n",
              "    </tr>\n",
              "    <tr>\n",
              "      <th>7</th>\n",
              "      <td>state senator</td>\n",
              "      <td>253</td>\n",
              "    </tr>\n",
              "    <tr>\n",
              "      <th>8</th>\n",
              "      <td>state representative</td>\n",
              "      <td>224</td>\n",
              "    </tr>\n",
              "    <tr>\n",
              "      <th>9</th>\n",
              "      <td>former governor</td>\n",
              "      <td>213</td>\n",
              "    </tr>\n",
              "    <tr>\n",
              "      <th>10</th>\n",
              "      <td>senator</td>\n",
              "      <td>194</td>\n",
              "    </tr>\n",
              "    <tr>\n",
              "      <th>11</th>\n",
              "      <td>milwaukee county executive</td>\n",
              "      <td>183</td>\n",
              "    </tr>\n",
              "    <tr>\n",
              "      <th>12</th>\n",
              "      <td>attorney</td>\n",
              "      <td>128</td>\n",
              "    </tr>\n",
              "    <tr>\n",
              "      <th>13</th>\n",
              "      <td>u.s. house of representatives</td>\n",
              "      <td>118</td>\n",
              "    </tr>\n",
              "    <tr>\n",
              "      <th>14</th>\n",
              "      <td>congressman</td>\n",
              "      <td>109</td>\n",
              "    </tr>\n",
              "    <tr>\n",
              "      <th>15</th>\n",
              "      <td>governor of new jersey</td>\n",
              "      <td>104</td>\n",
              "    </tr>\n",
              "    <tr>\n",
              "      <th>16</th>\n",
              "      <td>social media posting</td>\n",
              "      <td>100</td>\n",
              "    </tr>\n",
              "    <tr>\n",
              "      <th>17</th>\n",
              "      <td>co-host on cnn's \"crossfire\"</td>\n",
              "      <td>88</td>\n",
              "    </tr>\n",
              "    <tr>\n",
              "      <th>18</th>\n",
              "      <td>u.s. congressman</td>\n",
              "      <td>82</td>\n",
              "    </tr>\n",
              "    <tr>\n",
              "      <th>19</th>\n",
              "      <td>speaker of the house of representatives</td>\n",
              "      <td>72</td>\n",
              "    </tr>\n",
              "  </tbody>\n",
              "</table>\n",
              "</div>"
            ],
            "text/plain": [
              "                                      title  counts\n",
              "0                                   missing    3565\n",
              "1                              u.s. senator     923\n",
              "2                                 president     615\n",
              "3                                  governor     537\n",
              "4                           president-elect     343\n",
              "5                       u.s. representative     340\n",
              "6                    presidential candidate     315\n",
              "7                             state senator     253\n",
              "8                      state representative     224\n",
              "9                           former governor     213\n",
              "10                                  senator     194\n",
              "11               milwaukee county executive     183\n",
              "12                                 attorney     128\n",
              "13            u.s. house of representatives     118\n",
              "14                              congressman     109\n",
              "15                   governor of new jersey     104\n",
              "16                     social media posting     100\n",
              "17             co-host on cnn's \"crossfire\"      88\n",
              "18                         u.s. congressman      82\n",
              "19  speaker of the house of representatives      72"
            ]
          },
          "metadata": {
            "tags": []
          },
          "execution_count": 184
        }
      ]
    },
    {
      "cell_type": "code",
      "metadata": {
        "id": "JTepozL1-aJM",
        "colab_type": "code",
        "colab": {
          "base_uri": "https://localhost:8080/",
          "height": 34
        },
        "outputId": "bd8f4bf0-ad10-4853-b473-a737a9feecc7"
      },
      "source": [
        "print(f'After cleaning, there are {len(clean_title)} titles')"
      ],
      "execution_count": null,
      "outputs": [
        {
          "output_type": "stream",
          "text": [
            "After cleaning, there are 1279 titles\n"
          ],
          "name": "stdout"
        }
      ]
    },
    {
      "cell_type": "code",
      "metadata": {
        "id": "qVh-uMJAwlJy",
        "colab_type": "code",
        "colab": {
          "base_uri": "https://localhost:8080/",
          "height": 441
        },
        "outputId": "01166db9-98ed-4909-9035-aa9999c079c7"
      },
      "source": [
        "# Visualize top 20 most frequent speaker titles besides \"missing\" with seaborn\n",
        "title_to_visualize = clean_title.loc[clean_title['title']!='missing'].sort_values(by='counts', ascending = False)[0:20]\n",
        "\n",
        "plt.figure(figsize=(15,6))\n",
        "l = sns.barplot(x=\"title\", y=\"counts\", data=title_to_visualize)\n",
        "l.set_xticklabels(l.get_xticklabels(), rotation=40, ha=\"right\")\n",
        "\n",
        "plt.tight_layout()\n",
        "plt.show()"
      ],
      "execution_count": null,
      "outputs": [
        {
          "output_type": "display_data",
          "data": {
            "image/png": "[encoded data removed]",
            "text/plain": [
              "<Figure size 1080x432 with 1 Axes>"
            ]
          },
          "metadata": {
            "tags": [],
            "needs_background": "light"
          }
        }
      ]
    },
    {
      "cell_type": "markdown",
      "metadata": {
        "id": "BEAu_d5SqJeP",
        "colab_type": "text"
      },
      "source": [
        "#### Speaker State"
      ]
    },
    {
      "cell_type": "markdown",
      "metadata": {
        "id": "sbYXtmjc2Vxh",
        "colab_type": "text"
      },
      "source": [
        "This part examines the \"state\" variable in the dataset, which has the locations of speakers. A close examination of state names shows that some states are classified as different states just because their spelling is different, such as Washington DC and Washington, D.C. Therefore, I created a dictionary to transform differnt spelling of the same states to the same ones. The number of unique values decreased from 86 to 64. I also found that several locations don't belong to the United States, including Russia, China, United Kingdom, and Qatar. I classified them into \"other country\". The plot of the distribution of states shows that Texas, Florida, Wisconsin, New York and Illinois have the most number of speakers in this dataset. I will use state as a feature because the location of the speaker might be related to his/her tendency to tell the truth.\n"
      ]
    },
    {
      "cell_type": "code",
      "metadata": {
        "id": "fiTUAj9JrY7l",
        "colab_type": "code",
        "colab": {
          "base_uri": "https://localhost:8080/",
          "height": 416
        },
        "outputId": "06c23ce8-1654-408d-f16c-c5e885559e47"
      },
      "source": [
        "# Distribution of states\n",
        "state = fakenews['state'].value_counts().rename_axis('state').reset_index(name = 'counts').sort_values(by='counts', ascending = False)\n",
        "state"
      ],
      "execution_count": null,
      "outputs": [
        {
          "output_type": "execute_result",
          "data": {
            "text/html": [
              "<div>\n",
              "<style scoped>\n",
              "    .dataframe tbody tr th:only-of-type {\n",
              "        vertical-align: middle;\n",
              "    }\n",
              "\n",
              "    .dataframe tbody tr th {\n",
              "        vertical-align: top;\n",
              "    }\n",
              "\n",
              "    .dataframe thead th {\n",
              "        text-align: right;\n",
              "    }\n",
              "</style>\n",
              "<table border=\"1\" class=\"dataframe\">\n",
              "  <thead>\n",
              "    <tr style=\"text-align: right;\">\n",
              "      <th></th>\n",
              "      <th>state</th>\n",
              "      <th>counts</th>\n",
              "    </tr>\n",
              "  </thead>\n",
              "  <tbody>\n",
              "    <tr>\n",
              "      <th>0</th>\n",
              "      <td>missing</td>\n",
              "      <td>2747</td>\n",
              "    </tr>\n",
              "    <tr>\n",
              "      <th>1</th>\n",
              "      <td>Texas</td>\n",
              "      <td>1260</td>\n",
              "    </tr>\n",
              "    <tr>\n",
              "      <th>2</th>\n",
              "      <td>Florida</td>\n",
              "      <td>1231</td>\n",
              "    </tr>\n",
              "    <tr>\n",
              "      <th>3</th>\n",
              "      <td>Wisconsin</td>\n",
              "      <td>900</td>\n",
              "    </tr>\n",
              "    <tr>\n",
              "      <th>4</th>\n",
              "      <td>New York</td>\n",
              "      <td>829</td>\n",
              "    </tr>\n",
              "    <tr>\n",
              "      <th>...</th>\n",
              "      <td>...</td>\n",
              "      <td>...</td>\n",
              "    </tr>\n",
              "    <tr>\n",
              "      <th>71</th>\n",
              "      <td>Virginia director, Coalition to Stop Gun Violence</td>\n",
              "      <td>1</td>\n",
              "    </tr>\n",
              "    <tr>\n",
              "      <th>70</th>\n",
              "      <td>Washington DC</td>\n",
              "      <td>1</td>\n",
              "    </tr>\n",
              "    <tr>\n",
              "      <th>69</th>\n",
              "      <td>Qatar</td>\n",
              "      <td>1</td>\n",
              "    </tr>\n",
              "    <tr>\n",
              "      <th>68</th>\n",
              "      <td>Rhode Island</td>\n",
              "      <td>1</td>\n",
              "    </tr>\n",
              "    <tr>\n",
              "      <th>85</th>\n",
              "      <td>New Hampshire</td>\n",
              "      <td>1</td>\n",
              "    </tr>\n",
              "  </tbody>\n",
              "</table>\n",
              "<p>86 rows × 2 columns</p>\n",
              "</div>"
            ],
            "text/plain": [
              "                                                state  counts\n",
              "0                                             missing    2747\n",
              "1                                               Texas    1260\n",
              "2                                             Florida    1231\n",
              "3                                           Wisconsin     900\n",
              "4                                            New York     829\n",
              "..                                                ...     ...\n",
              "71  Virginia director, Coalition to Stop Gun Violence       1\n",
              "70                                      Washington DC       1\n",
              "69                                              Qatar       1\n",
              "68                                      Rhode Island        1\n",
              "85                                     New Hampshire        1\n",
              "\n",
              "[86 rows x 2 columns]"
            ]
          },
          "metadata": {
            "tags": []
          },
          "execution_count": 187
        }
      ]
    },
    {
      "cell_type": "code",
      "metadata": {
        "id": "V2CEJ0Xw0uHk",
        "colab_type": "code",
        "colab": {
          "base_uri": "https://localhost:8080/",
          "height": 364
        },
        "outputId": "23ff5cbd-6001-4714-d918-e3e1b1032370"
      },
      "source": [
        "# Examine state names\n",
        "fakenews['state'].unique()"
      ],
      "execution_count": null,
      "outputs": [
        {
          "output_type": "execute_result",
          "data": {
            "text/plain": [
              "array(['Texas', 'Virginia', 'Illinois', 'missing', 'Florida', 'Wisconsin',\n",
              "       'New Jersey', 'Vermont', 'Massachusetts', 'Maryland',\n",
              "       'Washington, D.C. ', 'Oregon', 'New York', 'Washington, D.C.',\n",
              "       'California', 'Missouri', 'Rhode Island', 'West Virginia',\n",
              "       'Arkansas', 'New Hampshire', 'Ohio', 'Georgia', 'Arizona',\n",
              "       'Wyoming', 'Delaware', 'Kentucky', 'Kansas', 'ohio', 'Colorado',\n",
              "       'North Carolina', 'New Mexico', 'Illinois ', 'Alaska',\n",
              "       'South Carolina', 'Minnesota', 'Tennessee', 'Pennsylvania', 'Iowa',\n",
              "       'Connecticut', 'Louisiana', 'Indiana', 'Florida ', 'Utah',\n",
              "       'Michigan', 'Oklahoma', 'Nevada', 'Oregon ', 'Virgina', 'Nebraska',\n",
              "       'Georgia ', 'None', 'Washington D.C.', 'California ',\n",
              "       'Massachusetts ', 'Alabama', 'Russia', 'Washington state',\n",
              "       'Washington', 'District of Columbia', 'Unknown', 'Colorado ',\n",
              "       'New Hampshire ', 'Mississippi', 'Rhode island', 'China',\n",
              "       'United Kingdom', 'Virginia ', 'South Dakota', 'Qatar', 'Montana',\n",
              "       'North Dakota', 'Idaho', 'Maine', 'New York ',\n",
              "       'Virginia director, Coalition to Stop Gun Violence', 'Virgiia',\n",
              "       'Hawaii', 'Atlanta', 'Tennesse', 'Washington DC', 'Wisconsin ',\n",
              "       'PA - Pennsylvania', 'Tex', 'the United States', 'Rhode Island ',\n",
              "       'Georgia  '], dtype=object)"
            ]
          },
          "metadata": {
            "tags": []
          },
          "execution_count": 188
        }
      ]
    },
    {
      "cell_type": "code",
      "metadata": {
        "id": "nh6CZQt-1BfL",
        "colab_type": "code",
        "colab": {}
      },
      "source": [
        "# Build a dictionary to transform state names with different spellings into the same ones\n",
        "state_dictionary = {'Washington, D.C. ': 'Washington, D.C.', 'Washington DC': 'Washington, D.C.', 'Washington D.C.': 'Washington, D.C.',\n",
        "                         'Tex': 'Texas', 'PA - Pennsylvania': 'Pennsylvania', 'Washington state': 'Washington', 'Georgia  ': 'Georgia',\n",
        "                         'Georgia ': 'Georgia', 'Rhode Island ': 'Rhode Island', 'Wisconsin ': 'Wisconsin', 'Tennesse': 'Tennessee', \n",
        "                         'Virgiia': 'Virginia', 'Virginia director, Coalition to Stop Gun Violence': 'Virginia', 'New York ': 'New York', \n",
        "                         'Virginia ': 'Virginia', 'California ': 'California', 'Georgia ': 'Georgia', 'Virgina': \"Virginia\", 'Oregon ': 'Oregon',\n",
        "                         'Florida ': 'Florida', 'Illinois ': 'Illinois', 'ohio': 'Ohio'}\n",
        "                         \n",
        "fakenews[\"state\"] = fakenews[\"state\"].map(lambda x: state_dictionary[x] if x in state_dictionary.keys() else x)"
      ],
      "execution_count": null,
      "outputs": []
    },
    {
      "cell_type": "code",
      "metadata": {
        "id": "nPzgT9KP6zkm",
        "colab_type": "code",
        "colab": {}
      },
      "source": [
        "# Rename foreign countries as \"other country\"\n",
        "fakenews['state'] = fakenews['state'].map(lambda x: \"other country\" if x in['Russia', 'China', 'United Kingdom', 'Qatar'] else x)"
      ],
      "execution_count": null,
      "outputs": []
    },
    {
      "cell_type": "code",
      "metadata": {
        "id": "G1loZ3xk7pct",
        "colab_type": "code",
        "colab": {
          "base_uri": "https://localhost:8080/",
          "height": 369
        },
        "outputId": "48bf4815-a5db-4865-d579-73aa727a6f11"
      },
      "source": [
        "# Visualize the distribution of states besides missing with seaborn\n",
        "clean_state = fakenews['state'].value_counts().rename_axis('state').reset_index(name = 'counts').sort_values(by='counts', ascending = False)\n",
        "state_to_visualize = clean_state.loc[clean_state['state']!='missing'][0:30]\n",
        "\n",
        "plt.figure(figsize=(20,5))\n",
        "l = sns.barplot(x=\"state\", y=\"counts\", data=state_to_visualize)\n",
        "l.set_xticklabels(l.get_xticklabels(), rotation=40, ha=\"right\")\n",
        "\n",
        "plt.tight_layout()\n",
        "plt.show()"
      ],
      "execution_count": null,
      "outputs": [
        {
          "output_type": "display_data",
          "data": {
            "image/png": "[encoded data removed]",
            "text/plain": [
              "<Figure size 1440x360 with 1 Axes>"
            ]
          },
          "metadata": {
            "tags": [],
            "needs_background": "light"
          }
        }
      ]
    },
    {
      "cell_type": "markdown",
      "metadata": {
        "id": "pdT4gwUjqKpT",
        "colab_type": "text"
      },
      "source": [
        "#### Speaker Party"
      ]
    },
    {
      "cell_type": "markdown",
      "metadata": {
        "id": "G6Br5Mgx4WN1",
        "colab_type": "text"
      },
      "source": [
        "This part examines the \"party\" variable in the dataset, which has the parties that speakers belong to. The distribution shows that while the majority of the speakers are republican or democrat, a much smaller number of speakers come from various other smaller parties like the independent party or have no party affiliation. To normalize the party feature, I ranamed all the parties besides republican and democrat to \"other parties\". The plot of the distribution shows that the distribution of parties became more even after the adjustment. "
      ]
    },
    {
      "cell_type": "code",
      "metadata": {
        "id": "X4ucTjS5rcJj",
        "colab_type": "code",
        "colab": {
          "base_uri": "https://localhost:8080/",
          "height": 785
        },
        "outputId": "8f1011fb-5750-4f7e-df47-cd4df6e92657"
      },
      "source": [
        "# Distribution of parties\n",
        "party = fakenews['party'].value_counts().rename_axis('party').reset_index(name = 'counts').sort_values(by='counts', ascending = False)\n",
        "party"
      ],
      "execution_count": null,
      "outputs": [
        {
          "output_type": "execute_result",
          "data": {
            "text/html": [
              "<div>\n",
              "<style scoped>\n",
              "    .dataframe tbody tr th:only-of-type {\n",
              "        vertical-align: middle;\n",
              "    }\n",
              "\n",
              "    .dataframe tbody tr th {\n",
              "        vertical-align: top;\n",
              "    }\n",
              "\n",
              "    .dataframe thead th {\n",
              "        text-align: right;\n",
              "    }\n",
              "</style>\n",
              "<table border=\"1\" class=\"dataframe\">\n",
              "  <thead>\n",
              "    <tr style=\"text-align: right;\">\n",
              "      <th></th>\n",
              "      <th>party</th>\n",
              "      <th>counts</th>\n",
              "    </tr>\n",
              "  </thead>\n",
              "  <tbody>\n",
              "    <tr>\n",
              "      <th>0</th>\n",
              "      <td>republican</td>\n",
              "      <td>5665</td>\n",
              "    </tr>\n",
              "    <tr>\n",
              "      <th>1</th>\n",
              "      <td>democrat</td>\n",
              "      <td>4137</td>\n",
              "    </tr>\n",
              "    <tr>\n",
              "      <th>2</th>\n",
              "      <td>none</td>\n",
              "      <td>2181</td>\n",
              "    </tr>\n",
              "    <tr>\n",
              "      <th>3</th>\n",
              "      <td>organization</td>\n",
              "      <td>264</td>\n",
              "    </tr>\n",
              "    <tr>\n",
              "      <th>4</th>\n",
              "      <td>independent</td>\n",
              "      <td>180</td>\n",
              "    </tr>\n",
              "    <tr>\n",
              "      <th>5</th>\n",
              "      <td>newsmaker</td>\n",
              "      <td>64</td>\n",
              "    </tr>\n",
              "    <tr>\n",
              "      <th>6</th>\n",
              "      <td>libertarian</td>\n",
              "      <td>51</td>\n",
              "    </tr>\n",
              "    <tr>\n",
              "      <th>7</th>\n",
              "      <td>journalist</td>\n",
              "      <td>49</td>\n",
              "    </tr>\n",
              "    <tr>\n",
              "      <th>8</th>\n",
              "      <td>activist</td>\n",
              "      <td>45</td>\n",
              "    </tr>\n",
              "    <tr>\n",
              "      <th>9</th>\n",
              "      <td>columnist</td>\n",
              "      <td>44</td>\n",
              "    </tr>\n",
              "    <tr>\n",
              "      <th>10</th>\n",
              "      <td>talk-show-host</td>\n",
              "      <td>32</td>\n",
              "    </tr>\n",
              "    <tr>\n",
              "      <th>11</th>\n",
              "      <td>state-official</td>\n",
              "      <td>24</td>\n",
              "    </tr>\n",
              "    <tr>\n",
              "      <th>12</th>\n",
              "      <td>labor-leader</td>\n",
              "      <td>15</td>\n",
              "    </tr>\n",
              "    <tr>\n",
              "      <th>13</th>\n",
              "      <td>business-leader</td>\n",
              "      <td>11</td>\n",
              "    </tr>\n",
              "    <tr>\n",
              "      <th>14</th>\n",
              "      <td>tea-party-member</td>\n",
              "      <td>10</td>\n",
              "    </tr>\n",
              "    <tr>\n",
              "      <th>15</th>\n",
              "      <td>green</td>\n",
              "      <td>3</td>\n",
              "    </tr>\n",
              "    <tr>\n",
              "      <th>16</th>\n",
              "      <td>constitution-party</td>\n",
              "      <td>3</td>\n",
              "    </tr>\n",
              "    <tr>\n",
              "      <th>17</th>\n",
              "      <td>education-official</td>\n",
              "      <td>3</td>\n",
              "    </tr>\n",
              "    <tr>\n",
              "      <th>18</th>\n",
              "      <td>county-commissioner</td>\n",
              "      <td>2</td>\n",
              "    </tr>\n",
              "    <tr>\n",
              "      <th>19</th>\n",
              "      <td>government-body</td>\n",
              "      <td>2</td>\n",
              "    </tr>\n",
              "    <tr>\n",
              "      <th>20</th>\n",
              "      <td>liberal-party-canada</td>\n",
              "      <td>1</td>\n",
              "    </tr>\n",
              "    <tr>\n",
              "      <th>21</th>\n",
              "      <td>Moderate</td>\n",
              "      <td>1</td>\n",
              "    </tr>\n",
              "    <tr>\n",
              "      <th>22</th>\n",
              "      <td>ocean-state-tea-party-action</td>\n",
              "      <td>1</td>\n",
              "    </tr>\n",
              "    <tr>\n",
              "      <th>23</th>\n",
              "      <td>democratic-farmer-labor</td>\n",
              "      <td>1</td>\n",
              "    </tr>\n",
              "  </tbody>\n",
              "</table>\n",
              "</div>"
            ],
            "text/plain": [
              "                           party  counts\n",
              "0                     republican    5665\n",
              "1                       democrat    4137\n",
              "2                           none    2181\n",
              "3                   organization     264\n",
              "4                    independent     180\n",
              "5                      newsmaker      64\n",
              "6                    libertarian      51\n",
              "7                     journalist      49\n",
              "8                       activist      45\n",
              "9                      columnist      44\n",
              "10                talk-show-host      32\n",
              "11                state-official      24\n",
              "12                  labor-leader      15\n",
              "13               business-leader      11\n",
              "14              tea-party-member      10\n",
              "15                         green       3\n",
              "16            constitution-party       3\n",
              "17            education-official       3\n",
              "18           county-commissioner       2\n",
              "19               government-body       2\n",
              "20          liberal-party-canada       1\n",
              "21                      Moderate       1\n",
              "22  ocean-state-tea-party-action       1\n",
              "23       democratic-farmer-labor       1"
            ]
          },
          "metadata": {
            "tags": []
          },
          "execution_count": 192
        }
      ]
    },
    {
      "cell_type": "code",
      "metadata": {
        "id": "a-0D77HJsBAa",
        "colab_type": "code",
        "colab": {}
      },
      "source": [
        "# Renaming all other parties besides \"republican\" and \"democrat\" to normalize the feature\n",
        "fakenews['party'] = fakenews['party'].apply(lambda x: \"other parties\" if (x!=\"republican\") & (x!=\"democrat\") else x)"
      ],
      "execution_count": null,
      "outputs": []
    },
    {
      "cell_type": "code",
      "metadata": {
        "id": "9lQ6euV8suPf",
        "colab_type": "code",
        "colab": {
          "base_uri": "https://localhost:8080/",
          "height": 278
        },
        "outputId": "9ba91bc3-da7b-497f-844f-733228408d0e"
      },
      "source": [
        "# Visualize the distribution of parties after renaming with seaborn\n",
        "clean_party = fakenews['party'].value_counts().rename_axis('party').reset_index(name = 'counts').sort_values(by='counts', ascending = False)\n",
        "l = sns.barplot(x=\"party\", y=\"counts\", data=clean_party)\n",
        "\n",
        "plt.show()"
      ],
      "execution_count": null,
      "outputs": [
        {
          "output_type": "display_data",
          "data": {
            "image/png": "[encoded data removed]",
            "text/plain": [
              "<Figure size 432x288 with 1 Axes>"
            ]
          },
          "metadata": {
            "tags": [],
            "needs_background": "light"
          }
        }
      ]
    },
    {
      "cell_type": "markdown",
      "metadata": {
        "id": "fukaJUrEqL6l",
        "colab_type": "text"
      },
      "source": [
        "#### Statement Context"
      ]
    },
    {
      "cell_type": "markdown",
      "metadata": {
        "id": "6KyHGzuw9G5P",
        "colab_type": "text"
      },
      "source": [
        "This part examines the \"context\" variable in the dataset, which has the context of statements. The distribution of the variable shows that while news release, interviews and press release each has around 300 statements, the overwhelming majority of the contexts only have one statement. Still, I decided to use the \"context\" variable as a feature because the contexts of the statements may have impact on their truth values. A statement from press release, for example, might be more truthful than a statement from Tweet.\n"
      ]
    },
    {
      "cell_type": "code",
      "metadata": {
        "id": "rjtZ1wCprfiH",
        "colab_type": "code",
        "colab": {
          "base_uri": "https://localhost:8080/",
          "height": 416
        },
        "outputId": "9ee0a7a1-106d-4881-a25f-f8a130c99ac3"
      },
      "source": [
        "# Distribution of contexts\n",
        "context = fakenews['context'].value_counts().rename_axis('context').reset_index(name = 'counts').sort_values(by='counts', ascending = False)\n",
        "context"
      ],
      "execution_count": null,
      "outputs": [
        {
          "output_type": "execute_result",
          "data": {
            "text/html": [
              "<div>\n",
              "<style scoped>\n",
              "    .dataframe tbody tr th:only-of-type {\n",
              "        vertical-align: middle;\n",
              "    }\n",
              "\n",
              "    .dataframe tbody tr th {\n",
              "        vertical-align: top;\n",
              "    }\n",
              "\n",
              "    .dataframe thead th {\n",
              "        text-align: right;\n",
              "    }\n",
              "</style>\n",
              "<table border=\"1\" class=\"dataframe\">\n",
              "  <thead>\n",
              "    <tr style=\"text-align: right;\">\n",
              "      <th></th>\n",
              "      <th>context</th>\n",
              "      <th>counts</th>\n",
              "    </tr>\n",
              "  </thead>\n",
              "  <tbody>\n",
              "    <tr>\n",
              "      <th>0</th>\n",
              "      <td>a news release</td>\n",
              "      <td>309</td>\n",
              "    </tr>\n",
              "    <tr>\n",
              "      <th>1</th>\n",
              "      <td>an interview</td>\n",
              "      <td>286</td>\n",
              "    </tr>\n",
              "    <tr>\n",
              "      <th>2</th>\n",
              "      <td>a press release</td>\n",
              "      <td>282</td>\n",
              "    </tr>\n",
              "    <tr>\n",
              "      <th>3</th>\n",
              "      <td>a speech</td>\n",
              "      <td>259</td>\n",
              "    </tr>\n",
              "    <tr>\n",
              "      <th>4</th>\n",
              "      <td>a TV ad</td>\n",
              "      <td>222</td>\n",
              "    </tr>\n",
              "    <tr>\n",
              "      <th>...</th>\n",
              "      <td>...</td>\n",
              "      <td>...</td>\n",
              "    </tr>\n",
              "    <tr>\n",
              "      <th>2515</th>\n",
              "      <td>a TV interview on WFLA</td>\n",
              "      <td>1</td>\n",
              "    </tr>\n",
              "    <tr>\n",
              "      <th>2516</th>\n",
              "      <td>a political mailer</td>\n",
              "      <td>1</td>\n",
              "    </tr>\n",
              "    <tr>\n",
              "      <th>2517</th>\n",
              "      <td>a forum on cancer organized by Lance Armstrong.</td>\n",
              "      <td>1</td>\n",
              "    </tr>\n",
              "    <tr>\n",
              "      <th>2518</th>\n",
              "      <td>an interview on WOR 710-AM's \"The John Gamblin...</td>\n",
              "      <td>1</td>\n",
              "    </tr>\n",
              "    <tr>\n",
              "      <th>5142</th>\n",
              "      <td>votes in 2004 and 2009</td>\n",
              "      <td>1</td>\n",
              "    </tr>\n",
              "  </tbody>\n",
              "</table>\n",
              "<p>5143 rows × 2 columns</p>\n",
              "</div>"
            ],
            "text/plain": [
              "                                                context  counts\n",
              "0                                        a news release     309\n",
              "1                                          an interview     286\n",
              "2                                       a press release     282\n",
              "3                                              a speech     259\n",
              "4                                               a TV ad     222\n",
              "...                                                 ...     ...\n",
              "2515                             a TV interview on WFLA       1\n",
              "2516                                a political mailer        1\n",
              "2517    a forum on cancer organized by Lance Armstrong.       1\n",
              "2518  an interview on WOR 710-AM's \"The John Gamblin...       1\n",
              "5142                             votes in 2004 and 2009       1\n",
              "\n",
              "[5143 rows x 2 columns]"
            ]
          },
          "metadata": {
            "tags": []
          },
          "execution_count": 195
        }
      ]
    },
    {
      "cell_type": "code",
      "metadata": {
        "id": "-JfeQRaFvSOz",
        "colab_type": "code",
        "colab": {
          "base_uri": "https://localhost:8080/",
          "height": 369
        },
        "outputId": "516cb230-fa17-4de7-c496-daaf6bfa1dbd"
      },
      "source": [
        "# Distribution of the counts of contexts\n",
        "context_counts = context.groupby('counts', as_index = False).count()\n",
        "context_counts.columns = ['Number of Appearances', 'Number of Contexts']\n",
        "m = sns.relplot(x = 'Number of Appearances', y = 'Number of Contexts', kind=\"scatter\", data = context_counts, height=5, aspect=2)"
      ],
      "execution_count": null,
      "outputs": [
        {
          "output_type": "display_data",
          "data": {
            "image/png": "[encoded data removed]",
            "text/plain": [
              "<Figure size 720x360 with 1 Axes>"
            ]
          },
          "metadata": {
            "tags": [],
            "needs_background": "light"
          }
        }
      ]
    },
    {
      "cell_type": "markdown",
      "metadata": {
        "id": "1moY2NQfC6BP",
        "colab_type": "text"
      },
      "source": [
        "#### Credit History"
      ]
    },
    {
      "cell_type": "markdown",
      "metadata": {
        "id": "emep-JVSN0Mt",
        "colab_type": "text"
      },
      "source": [
        "This part examines the credit history variables in the dataset that record the truth values of the past statements of the speaker, including \"barely_true\", \"not_true\",\t\"half_true\", \"mostly_true\" and \"lie\". The boxplot below shows that while the distribution of these truth values are relatively similar, politicians tell fewer lies but more not true (false) statements. I will use these credit history variables as features because the history of a politician telling truth and lies may have important indications regarding whether this politician will tell truth in future statements. \n",
        "\n",
        "I also plot the correlations among the truth values of these statements to explore how these truth values correlate with each other. The result shows that while \"barely true\", \"not_true\", \"half_true\", and \"mostly_true\" have relatively strong correlations with each other (0.7-0.8), \"lie\" has different level of correlations with the rest. Among all truth values, \"lie\" is most strongly correlated with \"not_true\" (around 0.7) and moderately strongly correlated with \"barely true\" (around 0.5). It is not correlated with \"half_true\" and \"mostly_true\"."
      ]
    },
    {
      "cell_type": "code",
      "metadata": {
        "id": "RxpxIxC5RjxF",
        "colab_type": "code",
        "colab": {
          "base_uri": "https://localhost:8080/",
          "height": 389
        },
        "outputId": "6fd71ec4-9ec1-4050-9095-32f90fbe8b27"
      },
      "source": [
        "# Boxplot of credit history with seaborn\n",
        "plt.figure(figsize=(6,6))\n",
        "\n",
        "credit_history = fakenews[['barely_true', 'not_true', 'half_true', 'mostly_true', 'lie']]\n",
        "credit_history = pd.melt(credit_history)\n",
        "sns.boxplot(x='variable', y='value', data=credit_history)\n",
        "\n",
        "plt.show()"
      ],
      "execution_count": null,
      "outputs": [
        {
          "output_type": "display_data",
          "data": {
            "image/png": "[encoded data removed]",
            "text/plain": [
              "<Figure size 432x432 with 1 Axes>"
            ]
          },
          "metadata": {
            "tags": [],
            "needs_background": "light"
          }
        }
      ]
    },
    {
      "cell_type": "code",
      "metadata": {
        "colab_type": "code",
        "id": "M2UZa9NAvXDn",
        "colab": {
          "base_uri": "https://localhost:8080/",
          "height": 396
        },
        "outputId": "175e4c77-366e-4bc6-85da-02fef892a81d"
      },
      "source": [
        "# Correlations among different truth values in credit history\n",
        "correlation = fakenews[['barely_true', 'not_true', 'half_true', 'mostly_true', 'lie']]\n",
        "corrmat = correlation.corr()\n",
        "f, ax = plt.subplots(figsize=(9, 6))\n",
        "sns.heatmap(corrmat, vmax=.8, square=True)"
      ],
      "execution_count": null,
      "outputs": [
        {
          "output_type": "execute_result",
          "data": {
            "text/plain": [
              "<matplotlib.axes._subplots.AxesSubplot at 0x7f662cf3a6d8>"
            ]
          },
          "metadata": {
            "tags": []
          },
          "execution_count": 198
        },
        {
          "output_type": "display_data",
          "data": {
            "image/png": "[encoded data removed]",
            "text/plain": [
              "<Figure size 648x432 with 2 Axes>"
            ]
          },
          "metadata": {
            "tags": [],
            "needs_background": "light"
          }
        }
      ]
    },
    {
      "cell_type": "markdown",
      "metadata": {
        "id": "CkI7QZk6ARYf",
        "colab_type": "text"
      },
      "source": [
        "### Label"
      ]
    },
    {
      "cell_type": "markdown",
      "metadata": {
        "id": "Y0-KiEbdUS1X",
        "colab_type": "text"
      },
      "source": [
        "This part explores the labels for predictions. There are six different labels provided by the dataset in the \"label\" column to represent the truth value of a statement, they are \"half-true\", \"FALSE\", \"mostly-true\", \"barely-true\", \"TRUE\", and \"pants-fire\" (lie). Their distribution, as shown below, is relatively even, with \"pants_fire\" having the least counts. I will use these six labels for predictions in the machine learning model. "
      ]
    },
    {
      "cell_type": "code",
      "metadata": {
        "id": "zjeJ9E8rAexa",
        "colab_type": "code",
        "colab": {
          "base_uri": "https://localhost:8080/",
          "height": 314
        },
        "outputId": "7adff42c-382e-49f6-b23a-7f0bb08b9861"
      },
      "source": [
        "# Plotting the distribution of six labels using seaborn\n",
        "label = fakenews['label'].value_counts().rename_axis('label').reset_index(name = 'counts').sort_values(by='counts', ascending = False)\n",
        "\n",
        "l = sns.barplot(x=\"label\", y=\"counts\", data=label)\n",
        "l.set_xticklabels(l.get_xticklabels(), rotation=40, ha=\"right\")\n",
        "\n",
        "plt.show()"
      ],
      "execution_count": null,
      "outputs": [
        {
          "output_type": "display_data",
          "data": {
            "image/png": "[encoded data removed]",
            "text/plain": [
              "<Figure size 432x288 with 1 Axes>"
            ]
          },
          "metadata": {
            "tags": [],
            "needs_background": "light"
          }
        }
      ]
    },
    {
      "cell_type": "markdown",
      "metadata": {
        "id": "Rv9YKuiOWpAU",
        "colab_type": "text"
      },
      "source": [
        "However, considering the difficulties of predicting six labels, I also created a new column \"label2\" to classify these six labels into two categories to observe the subsequent changes in model performance. A statement will be labeled as 1 if its label is “true”, “mostly-true”, and “half-true” because they are closer to truth, and a statement will be labeled as 0 if its label is ‘barely-true”, “false”, and “pants-fire”. The distribution of \"label2\", as shown below, is also relatively even. I will use these two labels for predictions in the machine learning model as well.  \n"
      ]
    },
    {
      "cell_type": "code",
      "metadata": {
        "id": "7OrpAAuFpMFm",
        "colab_type": "code",
        "colab": {}
      },
      "source": [
        "# Create binary labels, name the new label column \"label2\"\n",
        "fakenews['label2'] = fakenews['label'].map(lambda x: 1 if x in ['TRUE', 'mostly-true', 'half-true'] else 0)"
      ],
      "execution_count": null,
      "outputs": []
    },
    {
      "cell_type": "code",
      "metadata": {
        "id": "ASQpkrjIqopl",
        "colab_type": "code",
        "colab": {
          "base_uri": "https://localhost:8080/",
          "height": 278
        },
        "outputId": "40d7c3e5-0e20-4085-9600-08ee7704b421"
      },
      "source": [
        "# Plotting the distribution of the two new labels using seaborn\n",
        "label2 = fakenews['label2'].value_counts().rename_axis('label2').reset_index(name = 'counts').sort_values(by='counts', ascending = False)\n",
        "\n",
        "m = sns.barplot(x=\"label2\", y=\"counts\", data=label2)\n",
        "plt.show()"
      ],
      "execution_count": null,
      "outputs": [
        {
          "output_type": "display_data",
          "data": {
            "image/png": "[encoded data removed]",
            "text/plain": [
              "<Figure size 432x288 with 1 Axes>"
            ]
          },
          "metadata": {
            "tags": [],
            "needs_background": "light"
          }
        }
      ]
    },
    {
      "cell_type": "markdown",
      "metadata": {
        "id": "ArQ-X83bfUan",
        "colab_type": "text"
      },
      "source": [
        "Finally, reset index for the final prepared dataset"
      ]
    },
    {
      "cell_type": "code",
      "metadata": {
        "id": "kttljo9G4QpM",
        "colab_type": "code",
        "colab": {
          "base_uri": "https://localhost:8080/",
          "height": 710
        },
        "outputId": "8114ffd3-8a51-4960-eb51-6193e088793f"
      },
      "source": [
        "# The final prepared dataset\n",
        "fakenews = fakenews.reset_index().drop(['index'], axis=1)\n",
        "fakenews"
      ],
      "execution_count": null,
      "outputs": [
        {
          "output_type": "execute_result",
          "data": {
            "text/html": [
              "<div>\n",
              "<style scoped>\n",
              "    .dataframe tbody tr th:only-of-type {\n",
              "        vertical-align: middle;\n",
              "    }\n",
              "\n",
              "    .dataframe tbody tr th {\n",
              "        vertical-align: top;\n",
              "    }\n",
              "\n",
              "    .dataframe thead th {\n",
              "        text-align: right;\n",
              "    }\n",
              "</style>\n",
              "<table border=\"1\" class=\"dataframe\">\n",
              "  <thead>\n",
              "    <tr style=\"text-align: right;\">\n",
              "      <th></th>\n",
              "      <th>id</th>\n",
              "      <th>label</th>\n",
              "      <th>statement</th>\n",
              "      <th>subject</th>\n",
              "      <th>speaker</th>\n",
              "      <th>title</th>\n",
              "      <th>state</th>\n",
              "      <th>party</th>\n",
              "      <th>barely_true</th>\n",
              "      <th>not_true</th>\n",
              "      <th>half_true</th>\n",
              "      <th>mostly_true</th>\n",
              "      <th>lie</th>\n",
              "      <th>context</th>\n",
              "      <th>statement_length</th>\n",
              "      <th>statement_length_log</th>\n",
              "      <th>subject_count</th>\n",
              "      <th>label2</th>\n",
              "    </tr>\n",
              "  </thead>\n",
              "  <tbody>\n",
              "    <tr>\n",
              "      <th>0</th>\n",
              "      <td>2635.json</td>\n",
              "      <td>FALSE</td>\n",
              "      <td>Says the Annies List political group supports ...</td>\n",
              "      <td>abortion</td>\n",
              "      <td>dwayne-bohac</td>\n",
              "      <td>state representative</td>\n",
              "      <td>Texas</td>\n",
              "      <td>republican</td>\n",
              "      <td>0.0</td>\n",
              "      <td>1.0</td>\n",
              "      <td>0.0</td>\n",
              "      <td>0.0</td>\n",
              "      <td>0.0</td>\n",
              "      <td>a mailer</td>\n",
              "      <td>82</td>\n",
              "      <td>4.406719</td>\n",
              "      <td>1</td>\n",
              "      <td>0</td>\n",
              "    </tr>\n",
              "    <tr>\n",
              "      <th>1</th>\n",
              "      <td>10540.json</td>\n",
              "      <td>half-true</td>\n",
              "      <td>When did the decline of coal start? It started...</td>\n",
              "      <td>energy,history,job-accomplishments</td>\n",
              "      <td>scott-surovell</td>\n",
              "      <td>state delegate</td>\n",
              "      <td>Virginia</td>\n",
              "      <td>democrat</td>\n",
              "      <td>0.0</td>\n",
              "      <td>0.0</td>\n",
              "      <td>1.0</td>\n",
              "      <td>1.0</td>\n",
              "      <td>0.0</td>\n",
              "      <td>a floor speech.</td>\n",
              "      <td>141</td>\n",
              "      <td>4.948760</td>\n",
              "      <td>3</td>\n",
              "      <td>1</td>\n",
              "    </tr>\n",
              "    <tr>\n",
              "      <th>2</th>\n",
              "      <td>324.json</td>\n",
              "      <td>mostly-true</td>\n",
              "      <td>Hillary Clinton agrees with John McCain \"by vo...</td>\n",
              "      <td>foreign-policy</td>\n",
              "      <td>barack-obama</td>\n",
              "      <td>president</td>\n",
              "      <td>Illinois</td>\n",
              "      <td>democrat</td>\n",
              "      <td>70.0</td>\n",
              "      <td>71.0</td>\n",
              "      <td>160.0</td>\n",
              "      <td>163.0</td>\n",
              "      <td>9.0</td>\n",
              "      <td>Denver</td>\n",
              "      <td>105</td>\n",
              "      <td>4.653960</td>\n",
              "      <td>1</td>\n",
              "      <td>1</td>\n",
              "    </tr>\n",
              "    <tr>\n",
              "      <th>3</th>\n",
              "      <td>1123.json</td>\n",
              "      <td>FALSE</td>\n",
              "      <td>Health care reform legislation is likely to ma...</td>\n",
              "      <td>health-care</td>\n",
              "      <td>blog-posting</td>\n",
              "      <td>missing</td>\n",
              "      <td>missing</td>\n",
              "      <td>small parties</td>\n",
              "      <td>7.0</td>\n",
              "      <td>19.0</td>\n",
              "      <td>3.0</td>\n",
              "      <td>5.0</td>\n",
              "      <td>44.0</td>\n",
              "      <td>a news release</td>\n",
              "      <td>78</td>\n",
              "      <td>4.356709</td>\n",
              "      <td>1</td>\n",
              "      <td>0</td>\n",
              "    </tr>\n",
              "    <tr>\n",
              "      <th>4</th>\n",
              "      <td>9028.json</td>\n",
              "      <td>half-true</td>\n",
              "      <td>The economic turnaround started at the end of ...</td>\n",
              "      <td>economy,jobs</td>\n",
              "      <td>charlie-crist</td>\n",
              "      <td>missing</td>\n",
              "      <td>Florida</td>\n",
              "      <td>democrat</td>\n",
              "      <td>15.0</td>\n",
              "      <td>9.0</td>\n",
              "      <td>20.0</td>\n",
              "      <td>19.0</td>\n",
              "      <td>2.0</td>\n",
              "      <td>an interview on CNN</td>\n",
              "      <td>54</td>\n",
              "      <td>3.988984</td>\n",
              "      <td>2</td>\n",
              "      <td>1</td>\n",
              "    </tr>\n",
              "    <tr>\n",
              "      <th>...</th>\n",
              "      <td>...</td>\n",
              "      <td>...</td>\n",
              "      <td>...</td>\n",
              "      <td>...</td>\n",
              "      <td>...</td>\n",
              "      <td>...</td>\n",
              "      <td>...</td>\n",
              "      <td>...</td>\n",
              "      <td>...</td>\n",
              "      <td>...</td>\n",
              "      <td>...</td>\n",
              "      <td>...</td>\n",
              "      <td>...</td>\n",
              "      <td>...</td>\n",
              "      <td>...</td>\n",
              "      <td>...</td>\n",
              "      <td>...</td>\n",
              "      <td>...</td>\n",
              "    </tr>\n",
              "    <tr>\n",
              "      <th>12784</th>\n",
              "      <td>7334.json</td>\n",
              "      <td>half-true</td>\n",
              "      <td>Says his budget provides the highest state fun...</td>\n",
              "      <td>education</td>\n",
              "      <td>rick-scott</td>\n",
              "      <td>governor</td>\n",
              "      <td>Florida</td>\n",
              "      <td>republican</td>\n",
              "      <td>28.0</td>\n",
              "      <td>23.0</td>\n",
              "      <td>38.0</td>\n",
              "      <td>34.0</td>\n",
              "      <td>7.0</td>\n",
              "      <td>a news conference</td>\n",
              "      <td>82</td>\n",
              "      <td>4.406719</td>\n",
              "      <td>1</td>\n",
              "      <td>1</td>\n",
              "    </tr>\n",
              "    <tr>\n",
              "      <th>12785</th>\n",
              "      <td>9788.json</td>\n",
              "      <td>barely-true</td>\n",
              "      <td>Ive been here almost every day.</td>\n",
              "      <td>civil-rights,crime,criminal-justice</td>\n",
              "      <td>jay-nixon</td>\n",
              "      <td>governor</td>\n",
              "      <td>Missouri</td>\n",
              "      <td>democrat</td>\n",
              "      <td>2.0</td>\n",
              "      <td>0.0</td>\n",
              "      <td>0.0</td>\n",
              "      <td>1.0</td>\n",
              "      <td>0.0</td>\n",
              "      <td>on ABC's \"This Week\"</td>\n",
              "      <td>31</td>\n",
              "      <td>3.433987</td>\n",
              "      <td>3</td>\n",
              "      <td>0</td>\n",
              "    </tr>\n",
              "    <tr>\n",
              "      <th>12786</th>\n",
              "      <td>10710.json</td>\n",
              "      <td>barely-true</td>\n",
              "      <td>In the early 1980s, Sen. Edward Kennedy secret...</td>\n",
              "      <td>bipartisanship,congress,foreign-policy,history</td>\n",
              "      <td>mackubin-thomas-owens</td>\n",
              "      <td>senior fellow, foreign policy research institute</td>\n",
              "      <td>Rhode Island</td>\n",
              "      <td>small parties</td>\n",
              "      <td>1.0</td>\n",
              "      <td>0.0</td>\n",
              "      <td>0.0</td>\n",
              "      <td>0.0</td>\n",
              "      <td>0.0</td>\n",
              "      <td>a commentary in The Providence Journal</td>\n",
              "      <td>147</td>\n",
              "      <td>4.990433</td>\n",
              "      <td>4</td>\n",
              "      <td>0</td>\n",
              "    </tr>\n",
              "    <tr>\n",
              "      <th>12787</th>\n",
              "      <td>3186.json</td>\n",
              "      <td>barely-true</td>\n",
              "      <td>Says an EPA permit languished under Strickland...</td>\n",
              "      <td>environment,government-efficiency</td>\n",
              "      <td>john-kasich</td>\n",
              "      <td>governor of ohio as of jan. 10, 2011</td>\n",
              "      <td>Ohio</td>\n",
              "      <td>republican</td>\n",
              "      <td>9.0</td>\n",
              "      <td>8.0</td>\n",
              "      <td>10.0</td>\n",
              "      <td>18.0</td>\n",
              "      <td>3.0</td>\n",
              "      <td>a news conference</td>\n",
              "      <td>96</td>\n",
              "      <td>4.564348</td>\n",
              "      <td>2</td>\n",
              "      <td>0</td>\n",
              "    </tr>\n",
              "    <tr>\n",
              "      <th>12788</th>\n",
              "      <td>6743.json</td>\n",
              "      <td>FALSE</td>\n",
              "      <td>Says the governor is going around the state ta...</td>\n",
              "      <td>state-budget,state-finances,taxes</td>\n",
              "      <td>john-burzichelli</td>\n",
              "      <td>missing</td>\n",
              "      <td>missing</td>\n",
              "      <td>democrat</td>\n",
              "      <td>1.0</td>\n",
              "      <td>1.0</td>\n",
              "      <td>0.0</td>\n",
              "      <td>0.0</td>\n",
              "      <td>0.0</td>\n",
              "      <td>an interview with NJToday</td>\n",
              "      <td>161</td>\n",
              "      <td>5.081404</td>\n",
              "      <td>3</td>\n",
              "      <td>0</td>\n",
              "    </tr>\n",
              "  </tbody>\n",
              "</table>\n",
              "<p>12789 rows × 18 columns</p>\n",
              "</div>"
            ],
            "text/plain": [
              "               id        label  ... subject_count label2\n",
              "0       2635.json        FALSE  ...             1      0\n",
              "1      10540.json    half-true  ...             3      1\n",
              "2        324.json  mostly-true  ...             1      1\n",
              "3       1123.json        FALSE  ...             1      0\n",
              "4       9028.json    half-true  ...             2      1\n",
              "...           ...          ...  ...           ...    ...\n",
              "12784   7334.json    half-true  ...             1      1\n",
              "12785   9788.json  barely-true  ...             3      0\n",
              "12786  10710.json  barely-true  ...             4      0\n",
              "12787   3186.json  barely-true  ...             2      0\n",
              "12788   6743.json        FALSE  ...             3      0\n",
              "\n",
              "[12789 rows x 18 columns]"
            ]
          },
          "metadata": {
            "tags": []
          },
          "execution_count": 202
        }
      ]
    },
    {
      "cell_type": "code",
      "metadata": {
        "id": "eCIh1IPWM7mA",
        "colab_type": "code",
        "colab": {}
      },
      "source": [
        ""
      ],
      "execution_count": null,
      "outputs": []
    },
    {
      "cell_type": "markdown",
      "metadata": {
        "id": "T5U3bEO-1Hv0",
        "colab_type": "text"
      },
      "source": [
        "## Primary Task"
      ]
    },
    {
      "cell_type": "markdown",
      "metadata": {
        "id": "k-2Zi-GXadAZ",
        "colab_type": "text"
      },
      "source": [
        "The primary task of this project is to train and optimize a machine learning model to predict the truth value for statements, first for multi-class classification (six labels), then for binary classification (two labels), and to observe the differences in model performance."
      ]
    },
    {
      "cell_type": "markdown",
      "metadata": {
        "id": "QxCwuDJV3cS8",
        "colab_type": "text"
      },
      "source": [
        "### Multi-Class Classification: six labels"
      ]
    },
    {
      "cell_type": "markdown",
      "metadata": {
        "id": "qsYTXW7JbMHV",
        "colab_type": "text"
      },
      "source": [
        "First, define a function to evaluate predictions after cross-validation and compare the performance of different classifiers. "
      ]
    },
    {
      "cell_type": "code",
      "metadata": {
        "id": "DtmXvSA03ceb",
        "colab_type": "code",
        "colab": {}
      },
      "source": [
        "# Start by defining a function to evaluate a classifier's predictions\n",
        "def evaluate(y_pred, y_actual, metrics, model_name = 'model'):\n",
        "    # Compute Confusion Matrix\n",
        "    conf_matrix = confusion_matrix(y_actual, y_pred)\n",
        "\n",
        "    # Compute and store each metric\n",
        "    model_metrics = {}\n",
        "    for (metric_name, metric) in metrics.items():\n",
        "        result = metric(y_actual, y_pred)\n",
        "        model_metrics[metric_name] = result\n",
        "\n",
        "    return conf_matrix, model_metrics\n",
        "\n",
        "# Then define a function that trains a classifier and evaluates it on one fold\n",
        "def evaluate_one_fold(classifier_name, classifier, X_train, y_train, X_test, y_test, metrics, fold_num, noisy = 'loud', labels=[]):\n",
        "\n",
        "    # Train and Evaluate Model\n",
        "    model = classifier.fit(X_train, y_train)\n",
        "    y_pred = model.predict(X_test)\n",
        "    conf_matrix, model_metrics = evaluate(y_pred, y_test, metrics, model_name = classifier_name)\n",
        "\n",
        "    # Display Results appropriately when noisy is set to 'loud' or 'quiet'\n",
        "    if noisy == 'quiet' and fold_num == 0:\n",
        "        print(f\"{classifier_name}: Fold {fold_num}\", end = '')\n",
        "    elif noisy == 'quiet':\n",
        "        print(f'...{fold_num}', end ='')\n",
        "    elif noisy == 'loud':\n",
        "        print(f\"{classifier_name}: Fold {fold_num} Results\")\n",
        "        ConfusionMatrixDisplay(conf_matrix, labels).plot(values_format='.4g')\n",
        "        plt.show()\n",
        "        print(model_metrics)\n",
        "        print(\"------------------------\")\n",
        "\n",
        "    return model_metrics\n",
        "\n",
        "# Define a function to evaluate over all folds\n",
        "def evaluate_all_folds(classifier_name, classifier, X, y, kf, metrics, noisy = 'loud', labels=[]):\n",
        "\n",
        "    # Initialize tracking variables\n",
        "    all_fold_metrics = {metric_name: [] for metric_name in metrics}\n",
        "\n",
        "    # Iterate over each fold\n",
        "    for fold_num, (train_index, test_index) in enumerate(kf.split(X, y)):\n",
        "        # Get the data subset for the current fold\n",
        "        X_train = X.iloc[train_index]\n",
        "        X_test = X.iloc[test_index]\n",
        "        y_train = y.iloc[train_index]\n",
        "        y_test = y.iloc[test_index]\n",
        "\n",
        "        # Train and Evaluate the Model\n",
        "        model_metrics =  evaluate_one_fold(classifier_name, classifier, X_train, y_train, X_test, y_test, metrics, fold_num, noisy, labels=labels)\n",
        "\n",
        "        # Update our tracking variables\n",
        "        [all_fold_metrics[metric_name].append(metric_val) for metric_name, metric_val in model_metrics.items()]\n",
        "\n",
        "    return all_fold_metrics\n",
        "\n",
        "# Define a function to compare different classifiers\n",
        "def compare_classifiers(classifiers, metrics, metric_to_optimize, df, feature_set,\n",
        "                        target, folds = 10, shuffle = True, noisy='loud', labels=[]):\n",
        "    # Initialize tracking variables\n",
        "    best = 0\n",
        "    best_name = None\n",
        "    classifier_comparison = {}\n",
        "\n",
        "    # Set up dataset and cross validation\n",
        "    X = df.loc[:, feature_set]\n",
        "    X = pd.get_dummies(X)\n",
        "    y = df[target]\n",
        "    kf = StratifiedKFold(n_splits=folds, shuffle=shuffle)\n",
        "\n",
        "    # For each classifier\n",
        "    for classifier_name, classifier in classifiers.items():\n",
        "        # Evaluate on all metrics for all folds\n",
        "        all_fold_metrics = evaluate_all_folds(classifier_name, classifier, X, y, kf, metrics, noisy = noisy, labels=labels)\n",
        "\n",
        "        # Compute average performance on metric to optimize over\n",
        "        optimization_metric_avg = np.mean(all_fold_metrics[metric_to_optimize])\n",
        "\n",
        "        # Update Tracking Variables\n",
        "        if optimization_metric_avg > best:\n",
        "            best = optimization_metric_avg\n",
        "            best_name = classifier_name\n",
        "        classifier_comparison[classifier_name] = all_fold_metrics\n",
        "        if noisy == 'quiet': \n",
        "            print()\n",
        "            print(f\"Average {metric_to_optimize}: {optimization_metric_avg:.2f}\")\n",
        "            print('-------------')\n",
        "    # Return our results\n",
        "    return best, best_name, classifier_comparison"
      ],
      "execution_count": null,
      "outputs": []
    },
    {
      "cell_type": "markdown",
      "metadata": {
        "id": "4oAgUIoo32Vq",
        "colab_type": "text"
      },
      "source": [
        "Then, define features with subsets and evaluate which features to use, including features related to statements, speakers, and credit history. "
      ]
    },
    {
      "cell_type": "code",
      "metadata": {
        "id": "9OeDsmFtN3Uj",
        "colab_type": "code",
        "colab": {
          "base_uri": "https://localhost:8080/",
          "height": 416
        },
        "outputId": "777434aa-7043-4e28-904c-437eff7aaae1"
      },
      "source": [
        "# Define features with different subsets\n",
        "statement_features = [\"subject\", \"subject_count\", \"context\", \"statement_length_log\"]\n",
        "speaker_features = [\"title\", \"state\", \"party\"]\n",
        "credit_features = ['barely_true', 'not_true', 'half_true', 'mostly_true', 'lie']\n",
        "\n",
        "feature_sets = {\n",
        "    \"statement only\": statement_features,\n",
        "    \"speaker only\": speaker_features,\n",
        "    \"credit only\": credit_features,\n",
        "    \"statement and speaker\": statement_features + speaker_features,\n",
        "    \"statement and credit\": statement_features + credit_features,\n",
        "    \"speaker and credit\": speaker_features + credit_features,\n",
        "    \"all features\": statement_features + speaker_features + credit_features\n",
        "}\n",
        "\n",
        "# Evaluate model performace with different feature subsets using Accuracy score. \n",
        "best = 0\n",
        "best_name = None\n",
        "\n",
        "for set_name, feature_set in feature_sets.items():\n",
        "\n",
        "    X = fakenews.loc[:, feature_set]\n",
        "    X = pd.get_dummies(X)\n",
        "\n",
        "    y = fakenews[\"label\"]\n",
        "\n",
        "    model = DecisionTreeClassifier(criterion=\"entropy\", random_state=123).fit(X, y)\n",
        "    y_pred = model.predict(X)\n",
        "\n",
        "    y_matches = (y_pred == y)\n",
        "    accuracy = 100*accuracy_score(y, y_pred)\n",
        "    if accuracy >= best:\n",
        "        best = accuracy\n",
        "        best_name = set_name\n",
        "        \n",
        "\n",
        "    # Bookkeeping and printing for the reader\n",
        "    print(f\"Feature set: {set_name}\")\n",
        "    print(f\"   Accuracy: {accuracy:.1f}%\")\n",
        "    print(f\"   Tree contains {model.get_n_leaves()} leaves\")\n",
        "    \n",
        "\n",
        "print(f\"Best feature set is: {best_name} \\nWith: {best:.1f}% accuracy.\")  "
      ],
      "execution_count": null,
      "outputs": [
        {
          "output_type": "stream",
          "text": [
            "Feature set: statement only\n",
            "   Accuracy: 99.9%\n",
            "   Tree contains 8671 leaves\n",
            "Feature set: speaker only\n",
            "   Accuracy: 37.1%\n",
            "   Tree contains 1560 leaves\n",
            "Feature set: credit only\n",
            "   Accuracy: 46.8%\n",
            "   Tree contains 391 leaves\n",
            "Feature set: statement and speaker\n",
            "   Accuracy: 100.0%\n",
            "   Tree contains 7747 leaves\n",
            "Feature set: statement and credit\n",
            "   Accuracy: 100.0%\n",
            "   Tree contains 5941 leaves\n",
            "Feature set: speaker and credit\n",
            "   Accuracy: 47.4%\n",
            "   Tree contains 1173 leaves\n",
            "Feature set: all features\n",
            "   Accuracy: 100.0%\n",
            "   Tree contains 5845 leaves\n",
            "Best feature set is: all features \n",
            "With: 100.0% accuracy.\n"
          ],
          "name": "stdout"
        }
      ]
    },
    {
      "cell_type": "markdown",
      "metadata": {
        "id": "xtHwc7mJcs-7",
        "colab_type": "text"
      },
      "source": [
        "The results above show that among all subsets of features, features related to statements, including \"subject\", \"subject_count\", \"context\", and \"statement_length_log\" are the most important for the model predictions, which achieved a 99.99% accuracy in decision trees by themselves while not addressing overfitting. The accuracy score reached 100% when statement features are used together with speaker features, statement features are used together with credit history features, and when three subsets of features are used together. \n",
        "\n",
        "While statement features are able to achieve a high accuracy by themselves, I still decide to use all three subsets of features together in the machine learning model because together they are able to achieve a 100% accuracy score with the least amount of leaves. "
      ]
    },
    {
      "cell_type": "code",
      "metadata": {
        "id": "tzCDutxucLpV",
        "colab_type": "code",
        "colab": {}
      },
      "source": [
        "# Create feature set from all features\n",
        "feature_set = statement_features + speaker_features + credit_features\n",
        "\n",
        "# Create train/test split\n",
        "X = fakenews[feature_set]\n",
        "X = pd.get_dummies(X)\n",
        "y = fakenews[\"label\"]\n",
        "X_train, X_test, y_train, y_test = train_test_split(X,y,test_size=0.20, random_state=123)"
      ],
      "execution_count": null,
      "outputs": []
    },
    {
      "cell_type": "markdown",
      "metadata": {
        "id": "W8KC2kE-iyCW",
        "colab_type": "text"
      },
      "source": [
        "Since the multi-class classification has six labels, I can only use decision tree classifier and random forest classifier for classification. I tried these two classifiers in the next part with 5 folds cross-validation to compare their performace. The result shows that although the accuracy score of decision tree is slightly better than random forest (38.60% compared to 38.47%), their performance are very similar. "
      ]
    },
    {
      "cell_type": "code",
      "metadata": {
        "id": "1PzlgIvx_6ey",
        "colab_type": "code",
        "colab": {
          "base_uri": "https://localhost:8080/",
          "height": 156
        },
        "outputId": "a73954af-e996-4b76-8779-6153264eb625"
      },
      "source": [
        "# Pick Classifiers to Compare\n",
        "classifiers = {\n",
        "    \"Decision Tree\": DecisionTreeClassifier(),\n",
        "    \"Random Forests\": RandomForestClassifier()\n",
        "}\n",
        "\n",
        "# Set a list of metrics we want to use to compare our classifiers \n",
        "metrics = {\n",
        "    \"Accuracy\" : lambda y,y_pred: 100*accuracy_score(y,y_pred),\n",
        "    \"Kappa\"    : cohen_kappa_score\n",
        "}\n",
        "\n",
        "# Choose a metric to optimize over\n",
        "metric_to_optimize = 'Accuracy'\n",
        "\n",
        "# Compare models and display final result\n",
        "best, best_name, classifier_comparison = compare_classifiers(classifiers, metrics, metric_to_optimize, fakenews, feature_set, \"label\", noisy = 'quiet', folds=5)\n",
        "\n",
        "print(f\"Best classifier is: {best_name} \\nWith Accuracy={best:.2f}%.\")   "
      ],
      "execution_count": null,
      "outputs": [
        {
          "output_type": "stream",
          "text": [
            "Decision Tree: Fold 0...1...2...3...4\n",
            "Average Accuracy: 38.60\n",
            "-------------\n",
            "Random Forests: Fold 0...1...2...3...4\n",
            "Average Accuracy: 38.47\n",
            "-------------\n",
            "Best classifier is: Decision Tree \n",
            "With Accuracy=38.60%.\n"
          ],
          "name": "stdout"
        }
      ]
    },
    {
      "cell_type": "markdown",
      "metadata": {
        "id": "Ktu6XFyK_7lZ",
        "colab_type": "text"
      },
      "source": [
        "#### Decision Tree Classifier"
      ]
    },
    {
      "cell_type": "markdown",
      "metadata": {
        "id": "3th0iazqmuKw",
        "colab_type": "text"
      },
      "source": [
        "Since the level of performance of the decision tree classifier and the random forest classifier are pretty close, I decided to tune hyperparameters for both of these two classfiers and compare their accuracy scores again after tuning.\n",
        "\n",
        "For the decision tree classifier, I first used RandomizedSearchCV to create a For the decision tree classifier hyperparameter tuning, I first used RandomizedSearchCV to create a parameter grid to sample from during fitting, because it allows selecting at random to sample a wide range of hyperparameter values instead of trying every single combination. I set the number of iterations (n_iter) to 60 and the number of folds for cross validation (cv) to 5, because as much as I want to cover wider search space and reduce the chance of overfitting, I need to make sure the run time is reasonable. The hyperparameters to tune include:\n",
        "\n",
        "* criterion: function to measure the quality of a split, including gini and entropy.\n",
        "* min_impurity_decrease: a node will be split if this split induces a decrease of the\n",
        "impurity greater than or equal to this value.\n",
        "* min_samples_split: the min number of samples required to split an internal node\n",
        "* max_depth: the maximum depth of the tree.\n",
        "* min_samples_leaf: the min number of samples required to be at a leaf node.\n",
        "\n",
        "The best random search model returns a 40.54% accuracy on the test set, which has a 1.94% increase compared with the decision tree model before tuning. The best hyperparameters are:\n",
        "\n",
        "\n",
        "* criterion = \"gini\"\n",
        "* min_impurity_decrease = 0.0001\n",
        "* max_depth = 25\n",
        "* min_samples_leaf = 0.01\n",
        "* min_samples_split = 0.001\n"
      ]
    },
    {
      "cell_type": "code",
      "metadata": {
        "id": "TFZH3nDmol8I",
        "colab_type": "code",
        "colab": {
          "base_uri": "https://localhost:8080/",
          "height": 156
        },
        "outputId": "bc479a9a-28f3-4bb4-b6ba-9c8b9f9441c4"
      },
      "source": [
        "# Use RandomizedSearchCV to create a parameter grid to sample from during fitting\n",
        "random_grid = {\"criterion\":[\"gini\", \"entropy\"],\n",
        "               \"min_impurity_decrease\":[0.0001, 0.001, 0.01],\n",
        "               \"max_depth\": [15, 20, 25, 30, 35, 40, 45, 50],\n",
        "               \"min_samples_leaf\": [0.001, 0.01], \n",
        "               \"min_samples_split\": [0.001, 0.01]\n",
        "}\n",
        "\n",
        "dt_random = RandomizedSearchCV(estimator = DecisionTreeClassifier(), param_distributions = random_grid, n_iter = 60, cv = 5, random_state=123)\n",
        "\n",
        "# Train a classifier with each combination of hyperparameters and take the best one and print out the results\n",
        "classifier = dt_random.fit(X_train, y_train)\n",
        "accuracy = classifier.best_score_\n",
        "best_fit = classifier.best_estimator_\n",
        "print(f\"Best fit when training was {best_fit}\\nWith {100*accuracy:.1f}% accuracy.\")\n",
        "\n",
        "# Evaluate our best model's performance on the test set and print the results\n",
        "y_pred = classifier.predict(X_test)\n",
        "accuracy = 100*accuracy_score(y_test, y_pred)\n",
        "print(f\"Accuracy on held-out test set: {accuracy:.2f}%\")"
      ],
      "execution_count": null,
      "outputs": [
        {
          "output_type": "stream",
          "text": [
            "Best fit when training was DecisionTreeClassifier(ccp_alpha=0.0, class_weight=None, criterion='gini',\n",
            "                       max_depth=25, max_features=None, max_leaf_nodes=None,\n",
            "                       min_impurity_decrease=0.0001, min_impurity_split=None,\n",
            "                       min_samples_leaf=0.01, min_samples_split=0.001,\n",
            "                       min_weight_fraction_leaf=0.0, presort='deprecated',\n",
            "                       random_state=None, splitter='best')\n",
            "With 43.0% accuracy.\n",
            "Accuracy on held-out test set: 40.54%\n"
          ],
          "name": "stdout"
        }
      ]
    },
    {
      "cell_type": "markdown",
      "metadata": {
        "id": "NYe21qcrLi7i",
        "colab_type": "text"
      },
      "source": [
        "The result from random search allows me to narrow down the range of values for each hyperparameter. I then used GridSearchCV to specify the best values and evaluate all combinations to further improve model performance. I still set the number of folds for cross validation (cv) to 5. The best grid search model returns a 40.54% accuracy on the test set, which is the same as the last time. The best hyperparameters are:\n",
        "\n",
        "* criterion = \"gini\"\n",
        "* min_impurity_decrease = 0.0001\n",
        "* max_depth = 20\n",
        "* min_samples_leaf = 0.01\n",
        "* min_samples_split = 0.001"
      ]
    },
    {
      "cell_type": "code",
      "metadata": {
        "id": "EeigiTVpyPhX",
        "colab_type": "code",
        "colab": {
          "base_uri": "https://localhost:8080/",
          "height": 156
        },
        "outputId": "df2c617b-4342-4497-cc73-07297e20e812"
      },
      "source": [
        "# Decide on the hyperparameters we would like to compare\n",
        "hyperparameters = {\n",
        "    \"criterion\":[\"gini\"],\n",
        "    \"min_impurity_decrease\":[0.0001, 0.001],\n",
        "    \"max_depth\": [20, 25, 30],\n",
        "    \"min_samples_leaf\": [0.01, 0.02], \n",
        "    \"min_samples_split\": [0.001, 0.002]\n",
        "}\n",
        "\n",
        "# Decide on number of folds for cross validation in the hyerparameter search\n",
        "kfolds = 5\n",
        "\n",
        "# Initialize a search using cross validation in GridSearchCV\n",
        "search = GridSearchCV(estimator=DecisionTreeClassifier(random_state=123),\n",
        "                            param_grid=hyperparameters, cv=kfolds, scoring=\"accuracy\")\n",
        "\n",
        "# Train a classifier with each combination of hyperparameters and take the best one and print out the results\n",
        "classifier = search.fit(X_train, y_train)\n",
        "accuracy = classifier.best_score_\n",
        "best_fit = classifier.best_estimator_\n",
        "print(f\"Best fit when training was {best_fit}\\nWith {100*accuracy:.1f}% accuracy.\")\n",
        "\n",
        "# Evaluate our best model's performance on the test set and print the results\n",
        "y_pred = classifier.predict(X_test)\n",
        "accuracy = 100*accuracy_score(y_test, y_pred)\n",
        "print(f\"Accuracy on held-out test set: {accuracy:.2f}%\")"
      ],
      "execution_count": null,
      "outputs": [
        {
          "output_type": "stream",
          "text": [
            "Best fit when training was DecisionTreeClassifier(ccp_alpha=0.0, class_weight=None, criterion='gini',\n",
            "                       max_depth=20, max_features=None, max_leaf_nodes=None,\n",
            "                       min_impurity_decrease=0.0001, min_impurity_split=None,\n",
            "                       min_samples_leaf=0.01, min_samples_split=0.001,\n",
            "                       min_weight_fraction_leaf=0.0, presort='deprecated',\n",
            "                       random_state=123, splitter='best')\n",
            "With 43.0% accuracy.\n",
            "Accuracy on held-out test set: 40.54%\n"
          ],
          "name": "stdout"
        }
      ]
    },
    {
      "cell_type": "markdown",
      "metadata": {
        "id": "32AKBqw4oNwy",
        "colab_type": "text"
      },
      "source": [
        "#### Random Forest Classifier"
      ]
    },
    {
      "cell_type": "markdown",
      "metadata": {
        "id": "ttsuNJMrqUAC",
        "colab_type": "text"
      },
      "source": [
        "For the random forest classifier hyperparameter tuning, I also first used RandomizedSearchCV with 60 iterations and 5 folds for cross validation. The hyperparameters to tune include:\n",
        "\n",
        "\n",
        "*   n_estimators: the number of trees in the forest.\n",
        "*   max_depth: the maximum depth of the tree. \n",
        "*   max_features: the number of features to consider when looking for the best split\n",
        "*   min_samples_leaf: the minimum number of samples required to be at a leaf node.\n",
        "*   min_samples_split: the minimum number of samples required to split an internal node\n",
        "\n",
        "The best random search model returns a 39.05% accuracy on the test set, which has a 0.58% increase compared with the random forest model before tuning. The best hyperparameters are:\n",
        "* n_estimators = 90\n",
        "* max_depth = 45\n",
        "* max_features = 'sqrt'\n",
        "* min_samples_split= 5\n",
        "* min_samples_leaf = 1\n",
        "\n",
        "\n",
        "\n",
        "\n",
        "\n"
      ]
    },
    {
      "cell_type": "code",
      "metadata": {
        "id": "XTLmd03AM-Z7",
        "colab_type": "code",
        "colab": {
          "base_uri": "https://localhost:8080/",
          "height": 190
        },
        "outputId": "ffc2a37e-5cfe-434c-90f3-59d2227dfec7"
      },
      "source": [
        "# Use RandomizedSearchCV to create a parameter grid to sample from during fitting\n",
        "random_grid = {'n_estimators': [60, 70, 80, 90, 100, 110, 120],\n",
        "               'max_features': ['auto', 'sqrt'],\n",
        "               'max_depth': [20, 25, 30, 35, 40, 45, 50, None],\n",
        "               'min_samples_split': [2, 5, 10],\n",
        "               'min_samples_leaf': [1, 2, 4]}\n",
        "\n",
        "rf_random = RandomizedSearchCV(estimator = RandomForestClassifier(), param_distributions = random_grid, n_iter = 80, cv = 5, random_state=123)\n",
        "\n",
        "# Train a classifier with each combination of hyperparameters and take the best one and print out the results\n",
        "classifier = rf_random.fit(X_train, y_train)\n",
        "accuracy = classifier.best_score_\n",
        "best_fit = classifier.best_estimator_\n",
        "print(f\"Best fit when training was {best_fit}\\nWith {100*accuracy:.2f}% accuracy.\")\n",
        "\n",
        "# Evaluate our best model's performance on the test set and print the results\n",
        "y_pred = classifier.predict(X_test)\n",
        "accuracy = 100*accuracy_score(y_test, y_pred)\n",
        "print(f\"Accuracy on held-out test set: {accuracy:.2f}%\")"
      ],
      "execution_count": null,
      "outputs": [
        {
          "output_type": "stream",
          "text": [
            "Best fit when training was RandomForestClassifier(bootstrap=True, ccp_alpha=0.0, class_weight=None,\n",
            "                       criterion='gini', max_depth=45, max_features='sqrt',\n",
            "                       max_leaf_nodes=None, max_samples=None,\n",
            "                       min_impurity_decrease=0.0, min_impurity_split=None,\n",
            "                       min_samples_leaf=1, min_samples_split=5,\n",
            "                       min_weight_fraction_leaf=0.0, n_estimators=90,\n",
            "                       n_jobs=None, oob_score=False, random_state=None,\n",
            "                       verbose=0, warm_start=False)\n",
            "With 41.89% accuracy.\n",
            "Accuracy on held-out test set: 39.05%\n"
          ],
          "name": "stdout"
        }
      ]
    },
    {
      "cell_type": "markdown",
      "metadata": {
        "id": "HzaxEiOVSlnH",
        "colab_type": "text"
      },
      "source": [
        "I then used GridSearchCV to specify to further improve model performance with 5 folds for cross validation. The best grid search model returns a 40.3% accuracy on the test set, which has a 1.25% improvement compared with the last optimization. The best hyperparameters are:\n",
        "* n_estimators = 70\n",
        "* max_depth = 35\n",
        "* max_features = 'auto'\n",
        "* min_samples_split= 2\n",
        "* min_samples_leaf = 2"
      ]
    },
    {
      "cell_type": "code",
      "metadata": {
        "id": "e6Nw0tooavOQ",
        "colab_type": "code",
        "colab": {
          "base_uri": "https://localhost:8080/",
          "height": 190
        },
        "outputId": "afb064da-e70d-4fe7-8b71-7ba641c7df51"
      },
      "source": [
        "# Decide on the hyperparameters we would like to compare\n",
        "hyperparameters = {\n",
        "    'n_estimators': [70, 80, 90, 100],\n",
        "    \"max_depth\": [35, 40, 45, 50],\n",
        "    'max_features': ['auto', 'sqrt'],\n",
        "    'min_samples_leaf': [1, 2],\n",
        "    'min_samples_split': [2, 5]\n",
        "}\n",
        "\n",
        "# Decide on number of folds for cross validation in the hyerparameter search\n",
        "kfolds = 5\n",
        "\n",
        "# Initialize a search using cross validation in GridSearchCV\n",
        "search = GridSearchCV(estimator=RandomForestClassifier(random_state=123),\n",
        "                            param_grid=hyperparameters, cv=kfolds, scoring=\"accuracy\")\n",
        "\n",
        "# Train a classifier with each combination of hyperparameters and take the best one and print out the results\n",
        "classifier = search.fit(X_train, y_train)\n",
        "accuracy = classifier.best_score_\n",
        "best_fit = classifier.best_estimator_\n",
        "print(f\"Best fit when training was {best_fit}\\nWith {100*accuracy:.1f}% accuracy.\")\n",
        "\n",
        "# Evaluate our best model's performance on the test set and print the results\n",
        "y_pred = classifier.predict(X_test)\n",
        "accuracy = 100*accuracy_score(y_test, y_pred)\n",
        "print(f\"Accuracy on held-out test set: {accuracy:.1f}%\")"
      ],
      "execution_count": null,
      "outputs": [
        {
          "output_type": "stream",
          "text": [
            "Best fit when training was RandomForestClassifier(bootstrap=True, ccp_alpha=0.0, class_weight=None,\n",
            "                       criterion='gini', max_depth=35, max_features='auto',\n",
            "                       max_leaf_nodes=None, max_samples=None,\n",
            "                       min_impurity_decrease=0.0, min_impurity_split=None,\n",
            "                       min_samples_leaf=2, min_samples_split=2,\n",
            "                       min_weight_fraction_leaf=0.0, n_estimators=70,\n",
            "                       n_jobs=None, oob_score=False, random_state=123,\n",
            "                       verbose=0, warm_start=False)\n",
            "With 41.2% accuracy.\n",
            "Accuracy on held-out test set: 40.3%\n"
          ],
          "name": "stdout"
        }
      ]
    },
    {
      "cell_type": "markdown",
      "metadata": {
        "id": "1kVefuBvWpaX",
        "colab_type": "text"
      },
      "source": [
        "### Binary Classification: two labels"
      ]
    },
    {
      "cell_type": "markdown",
      "metadata": {
        "id": "aXuaNkEaUGkx",
        "colab_type": "text"
      },
      "source": [
        "Define features with subsets and evaluate which features to use, including features related to statements, speakers, and credit history."
      ]
    },
    {
      "cell_type": "code",
      "metadata": {
        "id": "RvPkBGTn2Q4g",
        "colab_type": "code",
        "colab": {
          "base_uri": "https://localhost:8080/",
          "height": 416
        },
        "outputId": "f6ea34ff-0713-4ffa-ffa9-d27da84f271c"
      },
      "source": [
        "# Define features with different subsets\n",
        "statement_features = [\"subject\", \"subject_count\", \"context\", \"statement_length_log\"]\n",
        "speaker_features = [\"title\", \"state\", \"party\"]\n",
        "credit_features = ['barely_true', 'not_true', 'half_true', 'mostly_true', 'lie']\n",
        "\n",
        "feature_sets = {\n",
        "    \"statement only\": statement_features,\n",
        "    \"speaker only\": speaker_features,\n",
        "    \"credit only\": credit_features,\n",
        "    \"statement and speaker\": statement_features + speaker_features,\n",
        "    \"statement and credit\": statement_features + credit_features,\n",
        "    \"speaker and credit\": speaker_features + credit_features,\n",
        "    \"all features\": statement_features + speaker_features + credit_features\n",
        "}\n",
        "\n",
        "# Evaluate model performace with different feature subsets using Accuracy score. \n",
        "best = 0\n",
        "best_name = None\n",
        "\n",
        "for set_name, feature_set in feature_sets.items():\n",
        "\n",
        "    X = fakenews.loc[:, feature_set]\n",
        "    X = pd.get_dummies(X)\n",
        "\n",
        "    y = fakenews[\"label2\"]\n",
        "\n",
        "    model = DecisionTreeClassifier(criterion=\"entropy\", random_state=123).fit(X, y)\n",
        "    y_pred = model.predict(X)\n",
        "\n",
        "    y_matches = (y_pred == y)\n",
        "    accuracy = 100*accuracy_score(y, y_pred)\n",
        "    if accuracy >= best:\n",
        "        best = accuracy\n",
        "        best_name = set_name\n",
        "        \n",
        "\n",
        "    # Bookkeeping and printing for the reader\n",
        "    print(f\"Feature set: {set_name}\")\n",
        "    print(f\"   Accuracy: {accuracy:.1f}%\")\n",
        "    print(f\"   Tree contains {model.get_n_leaves()} leaves\")\n",
        "    \n",
        "\n",
        "print(f\"Best feature set is: {best_name} \\nWith: {best:.1f}% accuracy.\")  "
      ],
      "execution_count": null,
      "outputs": [
        {
          "output_type": "stream",
          "text": [
            "Feature set: statement only\n",
            "   Accuracy: 99.9%\n",
            "   Tree contains 5219 leaves\n",
            "Feature set: speaker only\n",
            "   Accuracy: 67.2%\n",
            "   Tree contains 1341 leaves\n",
            "Feature set: credit only\n",
            "   Accuracy: 73.8%\n",
            "   Tree contains 377 leaves\n",
            "Feature set: statement and speaker\n",
            "   Accuracy: 100.0%\n",
            "   Tree contains 4298 leaves\n",
            "Feature set: statement and credit\n",
            "   Accuracy: 100.0%\n",
            "   Tree contains 3027 leaves\n",
            "Feature set: speaker and credit\n",
            "   Accuracy: 74.0%\n",
            "   Tree contains 897 leaves\n",
            "Feature set: all features\n",
            "   Accuracy: 100.0%\n",
            "   Tree contains 3036 leaves\n",
            "Best feature set is: all features \n",
            "With: 100.0% accuracy.\n"
          ],
          "name": "stdout"
        }
      ]
    },
    {
      "cell_type": "markdown",
      "metadata": {
        "id": "PXnwDWvzUOLL",
        "colab_type": "text"
      },
      "source": [
        "The results again show that among all the subsets, features related to statements are the most useful for model prediction, which achieved a 99.99% accuracy compared with 67.2% for speaker features and 73.8% for credit features. The accuracy score reached 100% when statement features are used together with speaker features, credit features, and when three subsets of features are used together. Due to the same reason as above and for a better comparison with multi-class classification, I still used all three subsets of features."
      ]
    },
    {
      "cell_type": "code",
      "metadata": {
        "id": "AGcOnoIh2bCr",
        "colab_type": "code",
        "colab": {}
      },
      "source": [
        "# Create feature set from all features\n",
        "feature_set = statement_features + speaker_features + credit_features\n",
        "\n",
        "# Create train/test split\n",
        "X = fakenews[feature_set]\n",
        "X = pd.get_dummies(X)\n",
        "y = fakenews[\"label2\"]\n",
        "X_train, X_test, y_train, y_test = train_test_split(X,y,test_size=0.20, random_state=123)"
      ],
      "execution_count": null,
      "outputs": []
    },
    {
      "cell_type": "markdown",
      "metadata": {
        "id": "PVeEqA-62gxU",
        "colab_type": "text"
      },
      "source": [
        "I first tried decision tree classifier and random forest classifier with 5 folds cross- validation to compare their performances. The result shows that in the absence of hyperparameter tuning, the accuracy score of random forests is only slightly better than decision tree (69.44% compared with 67.78%). Thus, I had to tune hyperparameters for both and compare their performances again after adjusting. However, it is worth noticing that the accuracy of both classifiers already improved greatly compared with multi-class classification (40.5% for decision tree and 40.3% for random forest after tuning), which means reducing the number of labels for prediction can improve model performance.\n"
      ]
    },
    {
      "cell_type": "code",
      "metadata": {
        "id": "8MCsP5Lc2g7d",
        "colab_type": "code",
        "colab": {
          "base_uri": "https://localhost:8080/",
          "height": 156
        },
        "outputId": "0438e466-6e69-4992-a3cd-90a5f221241b"
      },
      "source": [
        "# Pick Classifiers to Compare\n",
        "classifiers = {\n",
        "    \"Decision Tree\": DecisionTreeClassifier(),\n",
        "    \"Random Forests\": RandomForestClassifier()\n",
        "}\n",
        "\n",
        "# Set a list of metrics we want to use to compare our classifiers \n",
        "metrics = {\n",
        "    \"Accuracy\" : lambda y,y_pred: 100*accuracy_score(y,y_pred),\n",
        "    \"Kappa\"    : cohen_kappa_score\n",
        "}\n",
        "\n",
        "# Choose a metric to optimize over\n",
        "metric_to_optimize = 'Accuracy'\n",
        "\n",
        "# Compare models and display final result\n",
        "best, best_name, classifier_comparison = compare_classifiers(classifiers, metrics, metric_to_optimize, fakenews, feature_set, \"label2\", noisy = 'quiet', folds=5)\n",
        "\n",
        "print(f\"Best classifier is: {best_name} \\nWith Accuracy={best:.2f}%.\")   "
      ],
      "execution_count": null,
      "outputs": [
        {
          "output_type": "stream",
          "text": [
            "Decision Tree: Fold 0...1...2...3...4\n",
            "Average Accuracy: 67.78\n",
            "-------------\n",
            "Random Forests: Fold 0...1...2...3...4\n",
            "Average Accuracy: 69.44\n",
            "-------------\n",
            "Best classifier is: Random Forests \n",
            "With Accuracy=69.44%.\n"
          ],
          "name": "stdout"
        }
      ]
    },
    {
      "cell_type": "markdown",
      "metadata": {
        "id": "mImNPRBpiG8f",
        "colab_type": "text"
      },
      "source": [
        "#### Decision Tree Classifier"
      ]
    },
    {
      "cell_type": "markdown",
      "metadata": {
        "id": "5Y545hmfAQgl",
        "colab_type": "text"
      },
      "source": [
        "For the decision tree classifier hyperparameter tuning, I first used Randomized- SearchCV with 60 iterations and 5 folds cross validation to sample a wide range of hyperparameter values. The hyperparameters to tune are the same as the decision tree for multi-class classification. The best random search model returns a 69.59 % accuracy on the test set, which has a 1.81% increase compared with the decision tree before tuning. The best hyperparameters are:\n",
        "\n",
        "* criterion = \"gini\"\n",
        "* min_impurity_decrease = 0.001\n",
        "* max_depth = 30\n",
        "* min_samples_leaf = 0.001\n",
        "* min_samples_split = 0.001"
      ]
    },
    {
      "cell_type": "code",
      "metadata": {
        "id": "Cg2JDHNC7Lc0",
        "colab_type": "code",
        "colab": {
          "base_uri": "https://localhost:8080/",
          "height": 156
        },
        "outputId": "4bcec9ce-8079-4301-b623-d259c0f913f1"
      },
      "source": [
        "# Use RandomizedSearchCV to create a parameter grid to sample from during fitting\n",
        "random_grid = {\"criterion\":[\"gini\", \"entropy\"],\n",
        "               \"min_impurity_decrease\":[0.0001, 0.001, 0.01],\n",
        "               \"max_depth\": [10, 15, 20, 25, 30, 35, 40, 45, 50],\n",
        "               \"min_samples_leaf\": [0.001, 0.01], \n",
        "               \"min_samples_split\": [0.001, 0.01]\n",
        "}\n",
        "\n",
        "dt_random = RandomizedSearchCV(estimator = DecisionTreeClassifier(), param_distributions = random_grid, n_iter = 60, cv = 5, random_state=123)\n",
        "\n",
        "# Train a classifier with each combination of hyperparameters and take the best one and print out the results\n",
        "classifier = dt_random.fit(X_train, y_train)\n",
        "accuracy = classifier.best_score_\n",
        "best_fit = classifier.best_estimator_\n",
        "print(f\"Best fit when training was {best_fit}\\nWith {100*accuracy:.1f}% accuracy.\")\n",
        "\n",
        "# Evaluate our best model's performance on the test set and print the results\n",
        "y_pred = classifier.predict(X_test)\n",
        "accuracy = 100*accuracy_score(y_test, y_pred)\n",
        "print(f\"Accuracy on held-out test set: {accuracy:.2f}%\")"
      ],
      "execution_count": null,
      "outputs": [
        {
          "output_type": "stream",
          "text": [
            "Best fit when training was DecisionTreeClassifier(ccp_alpha=0.0, class_weight=None, criterion='gini',\n",
            "                       max_depth=30, max_features=None, max_leaf_nodes=None,\n",
            "                       min_impurity_decrease=0.001, min_impurity_split=None,\n",
            "                       min_samples_leaf=0.001, min_samples_split=0.001,\n",
            "                       min_weight_fraction_leaf=0.0, presort='deprecated',\n",
            "                       random_state=None, splitter='best')\n",
            "With 71.8% accuracy.\n",
            "Accuracy on held-out test set: 69.59%\n"
          ],
          "name": "stdout"
        }
      ]
    },
    {
      "cell_type": "markdown",
      "metadata": {
        "id": "IaD04laGAV5m",
        "colab_type": "text"
      },
      "source": [
        "I then used GridSearchCV with 5 folds for cross validation to specify the best values and evaluate all combinations to further improve model performance. The best grid search model returns a 69.59% accuracy score on the test set, which is the same as the result of best random search. It seems that the performance has reached its best. The best hyperparameters are:\n",
        "* criterion = \"gini\"\n",
        "* min_impurity_decrease = 0.001\n",
        "* max_depth = 25\n",
        "* min_samples_leaf = 0.001\n",
        "* min_samples_split = 0.001"
      ]
    },
    {
      "cell_type": "code",
      "metadata": {
        "id": "BkTfFqn-9iYc",
        "colab_type": "code",
        "colab": {
          "base_uri": "https://localhost:8080/",
          "height": 156
        },
        "outputId": "43b6c856-7fb4-4cd0-ffc6-c107e55293d5"
      },
      "source": [
        "# Decide on the hyperparameters we would like to compare\n",
        "hyperparameters = {\n",
        "    \"criterion\":[\"gini\"],\n",
        "    \"min_impurity_decrease\":[0.0001, 0.001],\n",
        "    \"max_depth\": [25, 30, 35],\n",
        "    \"min_samples_leaf\": [0.001, 0.002], \n",
        "    \"min_samples_split\": [0.001, 0.002]\n",
        "}\n",
        "\n",
        "# Decide on number of folds for cross validation in the hyerparameter search\n",
        "kfolds = 5\n",
        "\n",
        "# Initialize a search using cross validation in GridSearchCV\n",
        "search = GridSearchCV(estimator=DecisionTreeClassifier(random_state=123),\n",
        "                            param_grid=hyperparameters, cv=kfolds, scoring=\"accuracy\")\n",
        "\n",
        "# Train a classifier with each combination of hyperparameters and take the best one and print out the results\n",
        "classifier = search.fit(X_train, y_train)\n",
        "accuracy = classifier.best_score_\n",
        "best_fit = classifier.best_estimator_\n",
        "print(f\"Best fit when training was {best_fit}\\nWith {100*accuracy:.1f}% accuracy.\")\n",
        "\n",
        "# Evaluate our best model's performance on the test set and print the results\n",
        "y_pred = classifier.predict(X_test)\n",
        "accuracy = 100*accuracy_score(y_test, y_pred)\n",
        "print(f\"Accuracy on held-out test set: {accuracy:.2f}%\")"
      ],
      "execution_count": null,
      "outputs": [
        {
          "output_type": "stream",
          "text": [
            "Best fit when training was DecisionTreeClassifier(ccp_alpha=0.0, class_weight=None, criterion='gini',\n",
            "                       max_depth=25, max_features=None, max_leaf_nodes=None,\n",
            "                       min_impurity_decrease=0.001, min_impurity_split=None,\n",
            "                       min_samples_leaf=0.001, min_samples_split=0.001,\n",
            "                       min_weight_fraction_leaf=0.0, presort='deprecated',\n",
            "                       random_state=123, splitter='best')\n",
            "With 71.8% accuracy.\n",
            "Accuracy on held-out test set: 69.59%\n"
          ],
          "name": "stdout"
        }
      ]
    },
    {
      "cell_type": "markdown",
      "metadata": {
        "id": "CRJVPB93iKMK",
        "colab_type": "text"
      },
      "source": [
        "#### Random Forest Classifier"
      ]
    },
    {
      "cell_type": "markdown",
      "metadata": {
        "id": "7i6n9AspAaHF",
        "colab_type": "text"
      },
      "source": [
        "For the random forest classifier hyperparameter tuning, I first used Randomized- SearchCV with 80 iterations and 5 folds for cross validation. The hyperparameters to tune are the same as the random forest for multi-class classification. The best random search model returns a 69.78% accuracy on the test set, which has a 0.34% increase compared with the random forest model before tuning. The best hyperparameters are:\n",
        "* n_estimators = 160\n",
        "* max_depth = 80\n",
        "* max_features = 'sqrt'\n",
        "* min_samples_split= 8\n",
        "* min_samples_leaf = 1"
      ]
    },
    {
      "cell_type": "code",
      "metadata": {
        "id": "cnzaZ6ZuPf62",
        "colab_type": "code",
        "colab": {
          "base_uri": "https://localhost:8080/",
          "height": 190
        },
        "outputId": "fed7a231-c6f8-47a5-835e-04e74e710588"
      },
      "source": [
        "# Use RandomizedSearchCV to create a parameter grid to sample from during fitting\n",
        "random_grid = {'n_estimators': [80, 90, 100, 110, 120, 130, 140, 150, 160],\n",
        "               'max_features': ['auto', 'sqrt'],\n",
        "               'max_depth': [50, 55, 60, 65, 70, 75, 80, 85, 90, None],\n",
        "               'min_samples_split': [2, 4, 8],\n",
        "               'min_samples_leaf': [1, 2, 4]\n",
        "               }\n",
        "\n",
        "rf_random = RandomizedSearchCV(estimator = RandomForestClassifier(), param_distributions = random_grid, n_iter = 100, cv = 5, random_state=123)\n",
        "\n",
        "# Train a classifier with each combination of hyperparameters and take the best one and print out the results\n",
        "classifier = rf_random.fit(X_train, y_train)\n",
        "accuracy = classifier.best_score_\n",
        "best_fit = classifier.best_estimator_\n",
        "print(f\"Best fit when training was {best_fit}\\nWith {100*accuracy:.2f}% accuracy.\")\n",
        "\n",
        "# Evaluate our best model's performance on the test set and print the results\n",
        "y_pred = classifier.predict(X_test)\n",
        "accuracy = 100*accuracy_score(y_test, y_pred)\n",
        "print(f\"Accuracy on held-out test set: {accuracy:.2f}%\")"
      ],
      "execution_count": null,
      "outputs": [
        {
          "output_type": "stream",
          "text": [
            "Best fit when training was RandomForestClassifier(bootstrap=True, ccp_alpha=0.0, class_weight=None,\n",
            "                       criterion='gini', max_depth=80, max_features='sqrt',\n",
            "                       max_leaf_nodes=None, max_samples=None,\n",
            "                       min_impurity_decrease=0.0, min_impurity_split=None,\n",
            "                       min_samples_leaf=1, min_samples_split=8,\n",
            "                       min_weight_fraction_leaf=0.0, n_estimators=160,\n",
            "                       n_jobs=None, oob_score=False, random_state=None,\n",
            "                       verbose=0, warm_start=False)\n",
            "With 71.57% accuracy.\n",
            "Accuracy on held-out test set: 69.78%\n"
          ],
          "name": "stdout"
        }
      ]
    },
    {
      "cell_type": "markdown",
      "metadata": {
        "id": "5Lb9dD6DAeHy",
        "colab_type": "text"
      },
      "source": [
        "I then used GridSearchCV with 5 folds for cross validation to specify the best values and evaluate all combinations to further improve model performance. The best grid search model returns a 70.3% accuracy score on the test set, which has a 0.52% improvement compared with the result from random search.\n",
        "The best hyperparameters are:\n",
        "* n_estimators = 150\n",
        "* max_depth = 65\n",
        "* max_features = 'auto’\n",
        "* min_samples_split= 8\n",
        "* min_samples_leaf = 1"
      ]
    },
    {
      "cell_type": "code",
      "metadata": {
        "id": "Zk45Mm2_xwlT",
        "colab_type": "code",
        "colab": {
          "base_uri": "https://localhost:8080/",
          "height": 190
        },
        "outputId": "87efe650-c539-4d36-e5c5-591d91e3ed50"
      },
      "source": [
        "# Decide on the hyperparameters we would like to compare\n",
        "hyperparameters = {\n",
        "    'n_estimators': [150, 160, 170],\n",
        "    \"max_depth\": [60, 65, 70, 75, 80, 85, 90],\n",
        "    'max_features': ['auto', 'sqrt'],\n",
        "    'min_samples_leaf': [1, 2],\n",
        "    'min_samples_split': [8, 10]\n",
        "}\n",
        "\n",
        "# Decide on number of folds for cross validation in the hyerparameter search\n",
        "kfolds = 5\n",
        "\n",
        "# Initialize a search using cross validation in GridSearchCV\n",
        "search = GridSearchCV(estimator=RandomForestClassifier(random_state=123),\n",
        "                            param_grid=hyperparameters, cv=kfolds, scoring=\"accuracy\")\n",
        "\n",
        "# Train a classifier with each combination of hyperparameters and take the best one and print out the results\n",
        "classifier = search.fit(X_train, y_train)\n",
        "accuracy = classifier.best_score_\n",
        "best_fit = classifier.best_estimator_\n",
        "print(f\"Best fit when training was {best_fit}\\nWith {100*accuracy:.1f}% accuracy.\")\n",
        "\n",
        "# Evaluate our best model's performance on the test set and print the results\n",
        "y_pred = classifier.predict(X_test)\n",
        "accuracy = 100*accuracy_score(y_test, y_pred)\n",
        "print(f\"Accuracy on held-out test set: {accuracy:.1f}%\")"
      ],
      "execution_count": null,
      "outputs": [
        {
          "output_type": "stream",
          "text": [
            "Best fit when training was RandomForestClassifier(bootstrap=True, ccp_alpha=0.0, class_weight=None,\n",
            "                       criterion='gini', max_depth=65, max_features='auto',\n",
            "                       max_leaf_nodes=None, max_samples=None,\n",
            "                       min_impurity_decrease=0.0, min_impurity_split=None,\n",
            "                       min_samples_leaf=1, min_samples_split=8,\n",
            "                       min_weight_fraction_leaf=0.0, n_estimators=150,\n",
            "                       n_jobs=None, oob_score=False, random_state=123,\n",
            "                       verbose=0, warm_start=False)\n",
            "With 71.5% accuracy.\n",
            "Accuracy on held-out test set: 70.3%\n"
          ],
          "name": "stdout"
        }
      ]
    },
    {
      "cell_type": "markdown",
      "metadata": {
        "id": "uTOI_fcIy4IC",
        "colab_type": "text"
      },
      "source": [
        "### Final Model: Random Forest predicting binary labels"
      ]
    },
    {
      "cell_type": "markdown",
      "metadata": {
        "id": "KCM-JOs48qn8",
        "colab_type": "text"
      },
      "source": [
        "#### Performance Evaluation"
      ]
    },
    {
      "cell_type": "markdown",
      "metadata": {
        "id": "m6ckITzUAkHI",
        "colab_type": "text"
      },
      "source": [
        "\n",
        "I select random forest classifier for binary classification as my final model because it has the best performance. Its tuned hyperparameters are as follows:\n",
        "* n_estimators = 150\n",
        "* max_depth = 65\n",
        "* max_features = 'auto’\n",
        "* min_samples_split= 8\n",
        "* min_samples_leaf = 1\n",
        "\n",
        "I trained the final model again using 10-fold cross validation. The model achieved a 71.3% mean accuracy score across 10 folds and a 70% accuracy on the test set."
      ]
    },
    {
      "cell_type": "code",
      "metadata": {
        "id": "ZMHKYzTM4xWp",
        "colab_type": "code",
        "colab": {}
      },
      "source": [
        "# Create feature set from all features\n",
        "feature_set = statement_features + speaker_features + credit_features\n",
        "\n",
        "# Create train/test split\n",
        "X = fakenews[feature_set]\n",
        "X = pd.get_dummies(X)\n",
        "y = fakenews[\"label2\"]\n",
        "X_train, X_test, y_train, y_test = train_test_split(X,y,test_size=0.20, random_state=123)"
      ],
      "execution_count": null,
      "outputs": []
    },
    {
      "cell_type": "code",
      "metadata": {
        "id": "ApahG9EHpfnc",
        "colab_type": "code",
        "colab": {
          "base_uri": "https://localhost:8080/",
          "height": 433
        },
        "outputId": "c4cafeb3-ced0-4d0f-a54a-0df8345c20dd"
      },
      "source": [
        "# random forest model creation\n",
        "rfc = RandomForestClassifier(n_estimators=150, max_depth=65, max_features=\"auto\", min_samples_leaf=1, min_samples_split=8, random_state=123)\n",
        "rfc.fit(X_train,y_train)\n",
        "# predictions\n",
        "rfc_predict = rfc.predict(X_test)\n",
        "rfc_cv_score = cross_val_score(rfc, X, y, cv=10, scoring='accuracy')\n",
        "\n",
        "# print out performace\n",
        "print(\"=== Confusion Matrix ===\")\n",
        "print(confusion_matrix(y_test, rfc_predict))\n",
        "print('\\n')\n",
        "print(\"=== Classification Report ===\")\n",
        "print(classification_report(y_test, rfc_predict))\n",
        "print('\\n')\n",
        "print(\"=== All Accuracy Scores ===\")\n",
        "print(rfc_cv_score)\n",
        "print('\\n')\n",
        "print(\"=== Mean Accuracy Score ===\")\n",
        "print(\"Mean accuracy Score - Random Forest: \", rfc_cv_score.mean())\n",
        "print('\\n')\n",
        "print(\"=== Accuracy Score on the test set ===\")\n",
        "print(\"Final accuracy Score on the test set - Random Forest:\", 100*accuracy_score(y_test, rfc_predict)"
      ],
      "execution_count": null,
      "outputs": [
        {
          "output_type": "stream",
          "text": [
            "=== Confusion Matrix ===\n",
            "[[ 587  565]\n",
            " [ 194 1212]]\n",
            "\n",
            "\n",
            "=== Classification Report ===\n",
            "              precision    recall  f1-score   support\n",
            "\n",
            "           0       0.75      0.51      0.61      1152\n",
            "           1       0.68      0.86      0.76      1406\n",
            "\n",
            "    accuracy                           0.70      2558\n",
            "   macro avg       0.72      0.69      0.68      2558\n",
            "weighted avg       0.71      0.70      0.69      2558\n",
            "\n",
            "\n",
            "\n",
            "=== All Accuracy Scores ===\n",
            "[0.71618452 0.72947615 0.71540266 0.71774824 0.69194683 0.71383894\n",
            " 0.70992963 0.71149335 0.71540266 0.71048513]\n",
            "\n",
            "\n",
            "=== Mean Accuracy Score ===\n",
            "Mean accuracy Score - Random Forest:  0.713190811972871\n"
          ],
          "name": "stdout"
        }
      ]
    },
    {
      "cell_type": "markdown",
      "metadata": {
        "id": "QjIEZVtLAqj8",
        "colab_type": "text"
      },
      "source": [
        "A closer examination of the confusion matrix shows that the final model is better at predicting truth values (1) than false values (0). Most noticeably, as shown in Figure 17, the model only had around 50% accuracy when predicting false values."
      ]
    },
    {
      "cell_type": "code",
      "metadata": {
        "id": "RWdX3iZavsQ0",
        "colab_type": "code",
        "colab": {
          "base_uri": "https://localhost:8080/",
          "height": 281
        },
        "outputId": "3c54ad62-aed1-4276-c698-56d3665f2132"
      },
      "source": [
        "# Generate confusion matrix with scikit-learn\n",
        "predictions = rfc_predict\n",
        "actual = np.array(list(y_test))\n",
        "\n",
        "conf_matrix = confusion_matrix(actual, predictions)\n",
        "ConfusionMatrixDisplay(conf_matrix, [\"0\", \"1\"]).plot(values_format='.4g')\n",
        "plt.show()"
      ],
      "execution_count": null,
      "outputs": [
        {
          "output_type": "display_data",
          "data": {
            "image/png": "[encoded data removed]",
            "text/plain": [
              "<Figure size 432x288 with 2 Axes>"
            ]
          },
          "metadata": {
            "tags": [],
            "needs_background": "light"
          }
        }
      ]
    },
    {
      "cell_type": "markdown",
      "metadata": {
        "id": "qirxV2dO8zzo",
        "colab_type": "text"
      },
      "source": [
        "#### Error Analysis"
      ]
    },
    {
      "cell_type": "markdown",
      "metadata": {
        "id": "xV5GWtYeAtLc",
        "colab_type": "text"
      },
      "source": [
        "To have a better understanding of where my model made mistakes, I further examined the distribution of six truth values among right and wrong predictions. The result shows that among labels in the wrong predictions, there are disproportionately more barely- true and false values than other values compared with distribution in right predictions, meaning the model is weaker at predicting these two types of statements."
      ]
    },
    {
      "cell_type": "code",
      "metadata": {
        "id": "AYjPTBTv8JFf",
        "colab_type": "code",
        "colab": {}
      },
      "source": [
        "# Combine test labels with features and predictions\n",
        "test_result = fakenews.loc[X_test.index, :]\n",
        "test_result['prediction'] = rfc_predict"
      ],
      "execution_count": null,
      "outputs": []
    },
    {
      "cell_type": "code",
      "metadata": {
        "id": "8Iv08f3r8L9w",
        "colab_type": "code",
        "colab": {}
      },
      "source": [
        "# Separate the dataframe according to right and wrong predictions\n",
        "right_prediction = test_result.loc[test_result['label2']==test_result['prediction']]\n",
        "wrong_prediction = test_result.loc[test_result['label2']!=test_result['prediction']]"
      ],
      "execution_count": null,
      "outputs": []
    },
    {
      "cell_type": "code",
      "metadata": {
        "id": "CEKfdicu-61a",
        "colab_type": "code",
        "colab": {
          "base_uri": "https://localhost:8080/",
          "height": 384
        },
        "outputId": "1660e02d-41c6-4011-9cd4-3faf0ee8d744"
      },
      "source": [
        "# Plot the distribution of six truth values in right and wrong predictions\n",
        "right_labels = right_prediction['label'].value_counts().rename_axis('label').reset_index(name = 'counts').sort_values(by='counts', ascending = False)\n",
        "wrong_labels = wrong_prediction['label'].value_counts().rename_axis('label').reset_index(name = 'counts').sort_values(by='counts', ascending = False)\n",
        "\n",
        "fig, (ax1, ax2) = plt.subplots(ncols=2, sharey=True, figsize=(12,5))\n",
        "ax1.set_title('labels for right prediction')\n",
        "ax2.set_title('labels for wrong prediction')\n",
        "\n",
        "a = sns.barplot(x=\"label\", y=\"counts\", data=right_labels, ax=ax1)\n",
        "a.set_xticklabels(l.get_xticklabels(), rotation=40, ha=\"right\")\n",
        "b = sns.barplot(x=\"label\", y=\"counts\", data=wrong_labels, ax=ax2)\n",
        "b.set_xticklabels(l.get_xticklabels(), rotation=40, ha=\"right\")\n",
        "\n",
        "plt.show()"
      ],
      "execution_count": null,
      "outputs": [
        {
          "output_type": "display_data",
          "data": {
            "image/png": "[encoded data removed]",
            "text/plain": [
              "<Figure size 864x360 with 2 Axes>"
            ]
          },
          "metadata": {
            "tags": [],
            "needs_background": "light"
          }
        }
      ]
    },
    {
      "cell_type": "markdown",
      "metadata": {
        "id": "baiInXAjA1Hc",
        "colab_type": "text"
      },
      "source": [
        "\n",
        "I also examined the distribution of top 10 subjects among right and wrong predictions to see what subjects have the most errors. As shown in figure 19, subjects including health care, taxes, education, and elections have proportional distributions, which means that the classifier is equally good at predicting those subjects. However, the classifier is weaker at predicting immigration, economy, crime, and transportation."
      ]
    },
    {
      "cell_type": "code",
      "metadata": {
        "id": "9s2Nc9o5BKT9",
        "colab_type": "code",
        "colab": {
          "base_uri": "https://localhost:8080/",
          "height": 422
        },
        "outputId": "a6eadb61-ac7b-425f-cf3d-3ead289dc1fc"
      },
      "source": [
        "# Plot the distribution of subjects in right and wrong predictions\n",
        "right_subjects = right_prediction['subject'].value_counts().rename_axis('subject').reset_index(name = 'counts').sort_values(by='counts', ascending = False)[0:10]\n",
        "wrong_subjects = wrong_prediction['subject'].value_counts().rename_axis('subject').reset_index(name = 'counts').sort_values(by='counts', ascending = False)[0:10]\n",
        "\n",
        "fig, (ax1, ax2) = plt.subplots(ncols=2, sharey=True, figsize=(16,5))\n",
        "ax1.set_title('subjects for right prediction')\n",
        "ax2.set_title('subjects for wrong prediction')\n",
        "\n",
        "c = sns.barplot(x=\"subject\", y=\"counts\", data=right_subjects, ax=ax1)\n",
        "c.set_xticklabels(c.get_xticklabels(), rotation=40, ha=\"right\")\n",
        "d = sns.barplot(x=\"subject\", y=\"counts\", data=wrong_subjects, ax=ax2)\n",
        "d.set_xticklabels(d.get_xticklabels(), rotation=40, ha=\"right\")\n",
        "\n",
        "plt.show()"
      ],
      "execution_count": null,
      "outputs": [
        {
          "output_type": "display_data",
          "data": {
            "image/png": "[encoded data removed]",
            "text/plain": [
              "<Figure size 1152x360 with 2 Axes>"
            ]
          },
          "metadata": {
            "tags": [],
            "needs_background": "light"
          }
        }
      ]
    },
    {
      "cell_type": "markdown",
      "metadata": {
        "id": "Hn1VSXQpA37e",
        "colab_type": "text"
      },
      "source": [
        "\n",
        "Finally, I examined the distribution of top 10 contexts among right and wrong predictions to see in what contexts my classifier is weaker at predicting. The result shows that while my classifier is good at predicting a press release, a news release, and a speech, it is worse at predicting an interview, a TV ad, a debate, and a Facebook post."
      ]
    },
    {
      "cell_type": "code",
      "metadata": {
        "id": "FreV9iZDDIPK",
        "colab_type": "code",
        "colab": {
          "base_uri": "https://localhost:8080/",
          "height": 402
        },
        "outputId": "d4969c05-73e1-4cdf-df91-529958fbad68"
      },
      "source": [
        "# Plot the distribution of contexts in right and wrong predictions\n",
        "right_contexts = right_prediction['context'].value_counts().rename_axis('context').reset_index(name = 'counts').sort_values(by='counts', ascending = False)[0:10]\n",
        "wrong_contexts = wrong_prediction['context'].value_counts().rename_axis('context').reset_index(name = 'counts').sort_values(by='counts', ascending = False)[0:10]\n",
        "\n",
        "fig, (ax1, ax2) = plt.subplots(ncols=2, sharey=True, figsize=(16,5))\n",
        "ax1.set_title('contexts for right prediction')\n",
        "ax2.set_title('contexts for wrong prediction')\n",
        "\n",
        "g = sns.barplot(x=\"context\", y=\"counts\", data=right_contexts, ax=ax1)\n",
        "g.set_xticklabels(g.get_xticklabels(), rotation=40, ha=\"right\")\n",
        "h = sns.barplot(x=\"context\", y=\"counts\", data=wrong_contexts, ax=ax2)\n",
        "h.set_xticklabels(h.get_xticklabels(), rotation=40, ha=\"right\")\n",
        "\n",
        "plt.show()"
      ],
      "execution_count": null,
      "outputs": [
        {
          "output_type": "display_data",
          "data": {
            "image/png": "[encoded data removed]",
            "text/plain": [
              "<Figure size 1152x360 with 2 Axes>"
            ]
          },
          "metadata": {
            "tags": [],
            "needs_background": "light"
          }
        }
      ]
    },
    {
      "cell_type": "markdown",
      "metadata": {
        "id": "wCsY7uqcWvMp",
        "colab_type": "text"
      },
      "source": [
        "## Extension Task"
      ]
    },
    {
      "cell_type": "markdown",
      "metadata": {
        "id": "4jOl__8AXYFb",
        "colab_type": "text"
      },
      "source": [
        "The extension task of this project conducts a fairness audit on the classifier by separating out statements by political party to measure and describe bias of the classifier by party. I only included the Republican party and the Democratic party in the audit because they are the two largest parties in the United States, and they have the most data entries in the dataset. Small parties are excluded from the fairness audit because there are too many of them and they have fewer data entries. The classifier used is the final optimized random forest classifier.\n"
      ]
    },
    {
      "cell_type": "markdown",
      "metadata": {
        "id": "oGMwNWI39KyE",
        "colab_type": "text"
      },
      "source": [
        "The results of the following functions show that while the false positive rate of the classifier is 31.8%, the false negative rate is only 24.8%"
      ]
    },
    {
      "cell_type": "code",
      "metadata": {
        "id": "hFF0qArj8GmD",
        "colab_type": "code",
        "colab": {
          "base_uri": "https://localhost:8080/",
          "height": 34
        },
        "outputId": "964ce948-55c1-41d1-e21e-020f108a1ac6"
      },
      "source": [
        "# Calculating false positive rate\n",
        "false_positive = test_result.loc[(test_result['prediction']==1) & (test_result['label2']==0)]\n",
        "false_positive_rate = len(false_positive) / len(test_result.loc[test_result.prediction==1])\n",
        "print(f\"The false positive rate for the classifer is {false_positive_rate}\")"
      ],
      "execution_count": null,
      "outputs": [
        {
          "output_type": "stream",
          "text": [
            "The false positive rate for the classifer is 0.31795160382667415\n"
          ],
          "name": "stdout"
        }
      ]
    },
    {
      "cell_type": "code",
      "metadata": {
        "id": "W3NdYA9MFeyH",
        "colab_type": "code",
        "colab": {
          "base_uri": "https://localhost:8080/",
          "height": 34
        },
        "outputId": "09a187cd-4512-426d-bae6-f1495eca86ec"
      },
      "source": [
        "# Calculating false negative rate\n",
        "false_negative = test_result.loc[(test_result['prediction']==0) & test_result['label2']==1 ]\n",
        "false_negative_rate = len(false_negative) / len(test_result.loc[test_result.prediction==0])\n",
        "print(f\"The false negative rate for the classifier is {false_negative_rate}\")"
      ],
      "execution_count": null,
      "outputs": [
        {
          "output_type": "stream",
          "text": [
            "The false negative rate for the classifier is 0.24839948783610755\n"
          ],
          "name": "stdout"
        }
      ]
    },
    {
      "cell_type": "markdown",
      "metadata": {
        "id": "gvObdwQg9g_G",
        "colab_type": "text"
      },
      "source": [
        "A closer examination of false positive rate and false negative rate by party shows that while the false positive rate for the republican party is higher than that of the democratic party by about 10%, the false negative rate for the republicans is higher than that of the democrats by a bit more than 10%. This means that the classifier has a higher tendency to not only falsely predict a statement to be true (while it is false) for republicans than for democrats, but also falsely predict a statement to be false (while it is actually true) for republicans.\n"
      ]
    },
    {
      "cell_type": "code",
      "metadata": {
        "id": "Qv7hyzXsFpNa",
        "colab_type": "code",
        "colab": {
          "base_uri": "https://localhost:8080/",
          "height": 278
        },
        "outputId": "fb06dc50-e221-4056-c0a2-13cad90ab09a"
      },
      "source": [
        "# Separate dataset into republicans and democrats\n",
        "republican = test_result.loc[test_result['party']=='republican']\n",
        "democrat = test_result.loc[test_result['party']=='democrat']\n",
        "\n",
        "# Error balance of false positives\n",
        "party_probs = []\n",
        "for party in [republican, democrat]:\n",
        "  probs = []\n",
        "  false_positive = party.loc[(party['prediction']==1) & (party['label2']==0)]\n",
        "  false_positive_rate = len(false_positive) / len(party.loc[party.prediction==1])\n",
        "  probs.append(false_positive_rate)\n",
        "  party_probs.append(probs)\n",
        "\n",
        "# Plot false positives by party\n",
        "fig = plt.gcf()\n",
        "plt.bar(range(1,2), party_probs[0], align='edge', width=-.1)\n",
        "plt.bar(range(1,2), party_probs[1], align='edge', width=.1)\n",
        "plt.xlabel(\"Party\")\n",
        "plt.xticks(ticks=range(1,2))\n",
        "plt.xticks([0], [\"party\"])\n",
        "plt.ylabel(\"False Positive Rate\")\n",
        "plt.legend([\"Republican\", \"Democrat\"])\n",
        "plt.title(\"Comparative False Positive Rates\")\n",
        "plt.show()"
      ],
      "execution_count": null,
      "outputs": [
        {
          "output_type": "display_data",
          "data": {
            "image/png": "[encoded data removed]",
            "text/plain": [
              "<Figure size 432x288 with 1 Axes>"
            ]
          },
          "metadata": {
            "tags": [],
            "needs_background": "light"
          }
        }
      ]
    },
    {
      "cell_type": "code",
      "metadata": {
        "id": "b4TEoyN7GF4z",
        "colab_type": "code",
        "colab": {
          "base_uri": "https://localhost:8080/",
          "height": 278
        },
        "outputId": "77e19c43-9162-40a5-be7e-476b150e4ab4"
      },
      "source": [
        "# Error balance of false negatives\n",
        "party_probs = []\n",
        "for party in [republican, democrat]:\n",
        "  probs = []\n",
        "  false_positive = party.loc[(party['prediction']==0) & (party['label2']==1)]\n",
        "  false_positive_rate = len(false_positive) / len(party.loc[party.prediction==0])\n",
        "  probs.append(false_positive_rate)\n",
        "  party_probs.append(probs)\n",
        "\n",
        "# Plot false negatives by party\n",
        "fig = plt.gcf()\n",
        "plt.bar(range(1,2), party_probs[0], align='edge', width=-.1)\n",
        "plt.bar(range(1,2), party_probs[1], align='edge', width=.1)\n",
        "plt.xlabel(\"Party\")\n",
        "plt.xticks(ticks=range(1,2))\n",
        "plt.xticks([0], [\"party\"])\n",
        "plt.ylabel(\"False Negative Rate\")\n",
        "plt.legend([\"Republican\", \"Democrat\"])\n",
        "plt.title(\"Comparative False Negative Rates\")\n",
        "plt.show()"
      ],
      "execution_count": null,
      "outputs": [
        {
          "output_type": "display_data",
          "data": {
            "image/png": "[encoded data removed]",
            "text/plain": [
              "<Figure size 432x288 with 1 Axes>"
            ]
          },
          "metadata": {
            "tags": [],
            "needs_background": "light"
          }
        }
      ]
    },
    {
      "cell_type": "markdown",
      "metadata": {
        "id": "o0xXpLH1_Ncz",
        "colab_type": "text"
      },
      "source": [
        "To further explore the reasons that contribute to the discrepancy in false negative rates, I examined the distribution of the two parties and the binary labels in the dataset. While there is an equal distribution of truth and false statements for the Republican party, the number of truth statements far exceeds the number of false statements for the Democratic party. This indicates that the dataset itself is biased against the Republican party by including more false statements of republicans than democrats, which could contribute to the unfairness of the classifier."
      ]
    },
    {
      "cell_type": "code",
      "metadata": {
        "id": "FdkrB5X-kifI",
        "colab_type": "code",
        "colab": {
          "base_uri": "https://localhost:8080/",
          "height": 369
        },
        "outputId": "13104dcf-6154-4f14-ace4-e21c92ae78c1"
      },
      "source": [
        "# Plot the distribution of parties and label2 in test data\n",
        "party_values = test_result.groupby(['party', 'label2'], as_index = False).count()[['party', 'label2', 'id']].sort_values(by='id')\n",
        "party_values = party_values.loc[party_values['party']!='small parties']\n",
        "party_values.columns = ['Party', 'Label2', 'Counts']\n",
        "\n",
        "k = sns.catplot(x=\"Party\", y=\"Counts\", kind='bar', hue='Label2', data=party_values)"
      ],
      "execution_count": null,
      "outputs": [
        {
          "output_type": "display_data",
          "data": {
            "image/png": "[encoded data removed]",
            "text/plain": [
              "<Figure size 402.375x360 with 1 Axes>"
            ]
          },
          "metadata": {
            "tags": [],
            "needs_background": "light"
          }
        }
      ]
    }
  ]
}